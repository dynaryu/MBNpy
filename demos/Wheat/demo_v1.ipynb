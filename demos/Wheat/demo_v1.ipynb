{
 "cells": [
  {
   "cell_type": "code",
   "execution_count": 108,
   "metadata": {},
   "outputs": [],
   "source": [
    "from pathlib import Path\n",
    "import pandas as pd\n",
    "import json\n",
    "import networkx as nx\n",
    "import matplotlib.pyplot as plt\n",
    "import pdb\n",
    "import pickle\n",
    "import numpy as np\n",
    "from typing_extensions import Annotated\n",
    "import time\n",
    "\n",
    "import sys\n",
    "sys.path.append(r\"C:\\Users\\bjieu\\git\\MBNpy\")\n",
    "from mbnpy import model, config, trans, variable, brc, branch, cpm, inference\n",
    "\n",
    "HOME = Path().resolve()\n",
    "\n",
    "%matplotlib inline"
   ]
  },
  {
   "cell_type": "markdown",
   "metadata": {},
   "source": [
    "# Version info: v1\n",
    "\n",
    "- Consider capacity--the system function considers only edges that have an equal or greater capacity than a target capacity (e.g. 50, 75, 100).\n",
    "- Run BRC to identify survival and failure conditions.\n",
    "- The travel time should not take longer than (original time) + (thres), i.e. the failure definition is in terms of absolute value."
   ]
  },
  {
   "cell_type": "markdown",
   "metadata": {},
   "source": [
    "# User inputs"
   ]
  },
  {
   "cell_type": "markdown",
   "metadata": {},
   "source": [
    "System event definition"
   ]
  },
  {
   "cell_type": "code",
   "execution_count": 109,
   "metadata": {},
   "outputs": [],
   "source": [
    "key = 'York_Merredin'\n",
    "#thres = cfg.data['THRESHOLD'] # if it takes longer than this, we consider the od pair is disconnected\n",
    "thres = 90*60 # (sec) The travel time should not take longer than (original time) + (thres), i.e. the failure definition is in terms of absolute value.\n",
    "min_edge_capa = 75 # min edge capacity required"
   ]
  },
  {
   "cell_type": "markdown",
   "metadata": {},
   "source": [
    "Configuation data"
   ]
  },
  {
   "cell_type": "code",
   "execution_count": 110,
   "metadata": {},
   "outputs": [
    {
     "name": "stdout",
     "output_type": "stream",
     "text": [
      "scenario to be added later\n",
      "Selected OD pair: ('York', 'Merredin')\n"
     ]
    }
   ],
   "source": [
    "# load data\n",
    "cfg = config.Config(HOME.joinpath('./config.json'))\n",
    "od_pair = cfg.infra['ODs'][key]\n",
    "print(f\"Selected OD pair: {od_pair}\")"
   ]
  },
  {
   "cell_type": "markdown",
   "metadata": {},
   "source": [
    "Failure probabilities of each bridge (modelled as nodes in the graph)\n",
    "\n",
    "Here we assume binary states for each edge, assuming that \n",
    "connectivity is the most concerned factor for emergency activities\n",
    "i.e. congestion is not of concern"
   ]
  },
  {
   "cell_type": "code",
   "execution_count": 111,
   "metadata": {},
   "outputs": [
    {
     "name": "stdout",
     "output_type": "stream",
     "text": [
      "{'0277': {0: 0.0944034037193644, 1: 0.9055965962806356}, '0278': {0: 0.0053592467109883, 1: 0.9946407532890117}, '0279': {0: 0.0051202648238796, 1: 0.9948797351761204}, '0280': {0: 0.0014664184445196, 1: 0.9985335815554804}, '0281': {0: 0.0011574244236495, 1: 0.9988425755763505}, '0282': {0: 0.0027101770812885, 1: 0.9972898229187115}, '0283': {0: 0.0016462808932509, 1: 0.9983537191067491}, '0284': {0: 0.0587751195665464, 1: 0.9412248804334536}, '0285': {0: 0.0013042514493005, 1: 0.9986957485506995}, '0286': {0: 0.0013118952568398, 1: 0.9986881047431602}, '0287': {0: 0.0510761420465468, 1: 0.9489238579534532}, '0288': {0: 0.0013352206913295, 1: 0.9986647793086705}, '0289': {0: 0.00048799105003709476, 1: 0.999512008949963}, '0290': {0: 0.169447689715327, 1: 0.830552310284673}, '0291': {0: 0.0679430607421744, 1: 0.9320569392578256}, '0299': {0: 0.0010939813132391, 1: 0.9989060186867609}, '0300': {0: 0.039631509935041206, 1: 0.9603684900649588}, '0301': {0: 0.0007713046230969475, 1: 0.9992286953769031}, '0302': {0: 0.0004093747876999787, 1: 0.9995906252123}, '0303': {0: 0.018625862934322203, 1: 0.9813741370656778}, '0304': {0: 0.0002524725597483824, 1: 0.9997475274402516}, '0305': {0: 0.0277938221801707, 1: 0.9722061778198293}, '0361': {0: 0.07017182080571979, 1: 0.9298281791942802}, '0369': {0: 0.0014809044350670337, 1: 0.998519095564933}, '0574': {0: 0.4762978109550837, 1: 0.5237021890449163}, '0576': {0: 0.043857745955815805, 1: 0.9561422540441842}, '0579': {0: 0.0029002870303702, 1: 0.9970997129696298}, '0580': {0: 0.0022453381135237, 1: 0.9977546618864763}, '0589': {0: 0.0009847273480128732, 1: 0.9990152726519871}, '0592': {0: 0.0016779901695552, 1: 0.9983220098304448}, '0596': {0: 8.811872637295611e-05, 1: 0.9999118812736271}, '0597': {0: 1.802916938409005e-05, 1: 0.9999819708306159}, '0598': {0: 2.2010939455277398e-08, 1: 0.9999999779890606}, '0602': {0: 4.330773477613258e-08, 1: 0.9999999566922653}, '0606': {0: 0.2920817057748071, 1: 0.7079182942251929}, '0612': {0: 0.12232405949924341, 1: 0.8776759405007566}, '0613': {0: 0.0737923599938339, 1: 0.9262076400061661}, '0617': {0: 0.005124032602694, 1: 0.994875967397306}, '0627': {0: 2.658122092299122e-06, 1: 0.9999973418779077}, '0631A': {0: 0.0001560016877263797, 1: 0.9998439983122737}, '0632A': {0: 0.013304807662183, 1: 0.986695192337817}, '0633A': {0: 0.0059794868487169, 1: 0.9940205131512831}, '0634': {0: 0.0021898399347804, 1: 0.9978101600652196}, '0637': {0: 0.0015999455621247, 1: 0.9984000544378753}, '0638': {0: 0.1566572484969051, 1: 0.8433427515030949}, '0639': {0: 7.319317274184663e-07, 1: 0.9999992680682726}, '0641': {0: 1.8011577431403892e-07, 1: 0.9999998198842257}, '0692': {0: 0.0026779053048632, 1: 0.9973220946951368}, '0693': {0: 0.0003221918424900923, 1: 0.99967780815751}, '0694': {0: 0.0004010078439111812, 1: 0.9995989921560888}, '0714': {0: 3.67747722830671e-05, 1: 0.999963225227717}, '0715': {0: 9.198326340658901e-05, 1: 0.9999080167365935}, '0717': {0: 3.5262802037135995e-08, 1: 0.999999964737198}, '0729': {0: 0.00044482431886756475, 1: 0.9995551756811324}, '0730': {0: 0.0005024739663978857, 1: 0.9994975260336021}, '0752': {0: 0.1248845112226098, 1: 0.8751154887773902}, '0753': {0: 0.0479700038143781, 1: 0.9520299961856219}, '0754': {0: 0.0004538871489666123, 1: 0.9995461128510333}, '0761': {0: 0.0030332964113495, 1: 0.9969667035886505}, '0762': {0: 0.000839761037876872, 1: 0.9991602389621231}, '0763A': {0: 0.0039689891944612, 1: 0.9960310108055388}, '0765': {0: 2.8756217859490982e-11, 1: 0.9999999999712438}, '0897': {0: 0.0196842550912097, 1: 0.9803157449087903}, '0898': {0: 0.0126763689659169, 1: 0.987323631034083}, '1006': {0: 5.7728157328972475e-06, 1: 0.9999942271842671}, '1007': {0: 5.7728157328972475e-06, 1: 0.9999942271842671}, '1046': {0: 0.0514091506598173, 1: 0.9485908493401827}, '1047': {0: 0.0551976892445582, 1: 0.9448023107554417}, '1050': {0: 5.098036119694845e-06, 1: 0.9999949019638803}, '1065': {0: 1.4246091585120856e-05, 1: 0.9999857539084149}, '1149': {0: 0.0017403727332983999, 1: 0.9982596272667016}, '1150': {0: 0.00014171513505862712, 1: 0.9998582848649413}, '1153': {0: 0.0100902354099097, 1: 0.9899097645900903}, '1154': {0: 0.0013826289635008, 1: 0.9986173710364992}, '1463': {0: 0.0006222737090297428, 1: 0.9993777262909702}, '1464': {0: 0.059194961281146596, 1: 0.9408050387188533}, '1465': {0: 0.0007206488188066513, 1: 0.9992793511811934}, '1466': {0: 0.0436172642294701, 1: 0.9563827357705299}, '1467': {0: 0.0028485237901835, 1: 0.9971514762098165}, '1468': {0: 0.0044757523958221, 1: 0.9955242476041779}, '1469': {0: 0.0024040477119228, 1: 0.9975959522880772}, '1504': {0: 0.0021729178914492997, 1: 0.9978270821085506}, '4151': {0: 0.0023621039395541003, 1: 0.997637896060446}, '4154': {0: 0.3436735314373386, 1: 0.6563264685626614}, '4156': {0: 0.059533532613413306, 1: 0.9404664673865867}, '4166A': {0: 2.3313410824510584e-06, 1: 0.9999976686589176}, '4184': {0: 0.1624400297327685, 1: 0.8375599702672315}, '4527': {0: 0.0258528513014512, 1: 0.9741471486985488}, '4556A': {0: 0.0017968338883402, 1: 0.9982031661116598}, '4815': {0: 0.485608583665046, 1: 0.514391416334954}, '5093': {0: 3.871974846061105e-11, 1: 0.9999999999612803}, '5099A': {0: 2.2108534221392447e-06, 1: 0.9999977891465779}, '5100A': {0: 5.765849615245269e-06, 1: 0.9999942341503848}, '5281': {0: 1.455792396961361e-09, 1: 0.9999999985442076}, '6223A': {0: 7.819147583682469e-06, 1: 0.9999921808524164}, '9186': {0: 0.0035307775122792, 1: 0.9964692224877209}, '9187': {0: 0.0012409859917941, 1: 0.9987590140082059}, '9306': {0: 0.0629403100350389, 1: 0.9370596899649611}}\n"
     ]
    }
   ],
   "source": [
    "file_dmg = \"./avg_gmf_69_dmg.csv\"\n",
    "probs_all = pd.read_csv(file_dmg, index_col=0)\n",
    "probs_all.index = probs_all.index.astype('str')\n",
    "probs_all['failure'] = probs_all['Extensive'] + probs_all['Complete']\n",
    "probs_all = probs_all.to_dict('index')\n",
    "\n",
    "probs = {k: {0: v['failure'], 1: 1.0-v['failure']} for k, v in probs_all.items() if k in varis.keys()}\n",
    "print(probs)"
   ]
  },
  {
   "cell_type": "markdown",
   "metadata": {},
   "source": [
    "# Modelling\n",
    "\n",
    "The Bayesian network consists of two layers, one representing bridges and one the system event. <br>\n",
    "The system event represents the time it takes from origin to destination.\n"
   ]
  },
  {
   "cell_type": "markdown",
   "metadata": {},
   "source": [
    "Component events"
   ]
  },
  {
   "cell_type": "code",
   "execution_count": 112,
   "metadata": {},
   "outputs": [],
   "source": [
    "# variables\n",
    "varis = {}\n",
    "cpms = {}\n",
    "for k, v in cfg.infra['nodes'].items():\n",
    "    if k in probs: # k is bridge\n",
    "        varis[k] = variable.Variable(name=k, values = ['f', 's'])\n",
    "        cpms[k] = cpm.Cpm(variables = [varis[k]], no_child=1,\n",
    "                            C = np.array([0, 1]).T, p = [probs[k][0], probs[k][1]])"
   ]
  },
  {
   "cell_type": "markdown",
   "metadata": {},
   "source": [
    "Network analysis"
   ]
  },
  {
   "cell_type": "code",
   "execution_count": 113,
   "metadata": {},
   "outputs": [
    {
     "name": "stdout",
     "output_type": "stream",
     "text": [
      "{'label': '1', 'weight': 469, 'key': '1', 'capacity': 75}\n"
     ]
    }
   ],
   "source": [
    "print(G.edges[('0638', '4815')])"
   ]
  },
  {
   "cell_type": "code",
   "execution_count": 114,
   "metadata": {},
   "outputs": [
    {
     "name": "stdout",
     "output_type": "stream",
     "text": [
      "6547\n"
     ]
    }
   ],
   "source": [
    "G = cfg.infra['G']\n",
    "for u, v, data in G.edges(data=True):\n",
    "    edge_key = data.get('key', (u, v))\n",
    "    if edge_key in cfg.infra['edges']:\n",
    "        data['capacity'] = cfg.infra['edges'][edge_key]['link_capacity']\n",
    "    else:\n",
    "        data['capacity'] = np.inf\n",
    "\n",
    "d_time_itc0 = nx.shortest_path_length(G, source=od_pair[0], target=od_pair[1], weight='weight')\n",
    "print(d_time_itc0)"
   ]
  },
  {
   "cell_type": "code",
   "execution_count": 115,
   "metadata": {},
   "outputs": [
    {
     "name": "stdout",
     "output_type": "stream",
     "text": [
      "Removed edges: [('0597', 'Kellerberrin'), ('0597', '0596'), ('0597', '0598'), ('Kellerberrin', '0596'), ('Kellerberrin', '0641'), ('Kellerberrin', '4151'), ('0286', '4166A'), ('4166A', 'York'), ('York', '4184'), ('York', '4156'), ('Northam', '0613'), ('0639', 'Meckering'), ('0639', '0765'), ('0639', 'Merredin'), ('Meckering', '0284'), ('Cunderdin', '1065'), ('1065', '0714'), ('0714', '0715'), ('0714', '0730'), ('0715', '0717'), ('0717', '5093'), ('0717', '0596'), ('5093', '0305'), ('5093', '5281'), ('0612', '0613'), ('Merredin', '0641'), ('Merredin', '5100A'), ('Merredin', '0602'), ('0729', '0730'), ('0596', '0592'), ('4556A', '4151'), ('4556A', '0288'), ('0765', '0637'), ('5281', '5099A'), ('5099A', '6223A'), ('6223A', '5100A'), ('Wooroloo', '4527'), ('0631A', '0632A'), ('0632A', '0633A'), ('0633A', '0634'), ('0634', '0637'), ('0579', '0580'), ('0580', '0897'), ('0897', '0898'), ('0898', '0589'), ('0589', '0592'), ('0598', '0602')]\n",
      "Shortest time for the specified edge capacity: 8037\n"
     ]
    }
   ],
   "source": [
    "G_capa = G.copy()\n",
    "edges_to_remove = [(u,v) for u,v,data in G.edges(data=True) if data.get('capacity', np.inf) < min_edge_capa]\n",
    "G_capa.remove_edges_from(edges_to_remove)\n",
    "\n",
    "print(f\"Removed edges: {edges_to_remove}\")\n",
    "\n",
    "d_time_itc = nx.shortest_path_length(G_capa, source=od_pair[0], target=od_pair[1], weight='weight')\n",
    "print(f\"Shortest time for the specified edge capacity: {d_time_itc}\")"
   ]
  },
  {
   "cell_type": "code",
   "execution_count": 116,
   "metadata": {},
   "outputs": [],
   "source": [
    "def sys_fun(comps_st, G, threshold, od_pair, d_time_itc, min_edge_capa=75):\n",
    "    G_tmp = G.copy()\n",
    "    \n",
    "    # Remove edges with capacity lower than min_edge_capacity\n",
    "    edges_to_remove = [(u,v) for u,v,data in G.edges(data=True) if data.get('capacity', np.inf) < min_edge_capa]\n",
    "    G_tmp.remove_edges_from(edges_to_remove)\n",
    "\n",
    "    for br, st in comps_st.items():\n",
    "        if st == 0:\n",
    "            for neigh in G_tmp.neighbors(br):\n",
    "                G_tmp[br][neigh]['weight'] = float('inf')\n",
    "\n",
    "    d_time = nx.shortest_path_length(G_tmp, source=od_pair[0], target=od_pair[1], weight='weight')\n",
    "\n",
    "    if d_time > threshold + d_time_itc:\n",
    "        sys_st = 'f'\n",
    "        min_comps_st = None\n",
    "    else:\n",
    "        sys_st = 's'  \n",
    "\n",
    "        path = nx.shortest_path(G_tmp, source=od_pair[0], target=od_pair[1], weight='weight')\n",
    "        min_comps_st = {node: 1 for node in path if node in comps_st.keys()}\n",
    "\n",
    "    return d_time, sys_st, min_comps_st\n",
    "    \n"
   ]
  },
  {
   "cell_type": "code",
   "execution_count": 125,
   "metadata": {},
   "outputs": [
    {
     "name": "stdout",
     "output_type": "stream",
     "text": [
      "[System function runs 5]..\n",
      "The # of found non-dominated rules (f, s): 4 (1, 3)\n",
      "Probability of branchs (f, s, u): (8.0708e-02, 7.17e-01, 2.0233e-01)\n",
      "The # of branches (f, s, u), (min, avg) len of rf: 1409 (2, 58, 1349), (2, 2.00)\n",
      "Elapsed seconds (average per round): 4.05e+00 (8.09e-01)\n",
      "[System function runs 10]..\n",
      "The # of found non-dominated rules (f, s): 9 (5, 4)\n",
      "Probability of branchs (f, s, u): (1.4507e-01, 7.55e-01, 9.9494e-02)\n",
      "The # of branches (f, s, u), (min, avg) len of rf: 2485 (88, 101, 2296), (2, 2.40)\n",
      "Elapsed seconds (average per round): 1.34e+01 (1.34e+00)\n",
      "[System function runs 15]..\n",
      "The # of found non-dominated rules (f, s): 14 (9, 5)\n",
      "Probability of branchs (f, s, u): (1.6377e-01, 7.78e-01, 5.8265e-02)\n",
      "The # of branches (f, s, u), (min, avg) len of rf: 1476 (98, 177, 1201), (1, 2.11)\n",
      "Elapsed seconds (average per round): 1.72e+01 (1.15e+00)\n",
      "[System function runs 20]..\n",
      "The # of found non-dominated rules (f, s): 19 (14, 5)\n",
      "Probability of branchs (f, s, u): (1.8162e-01, 7.78e-01, 4.0411e-02)\n",
      "The # of branches (f, s, u), (min, avg) len of rf: 3101 (1186, 177, 1738), (1, 2.07)\n",
      "Elapsed seconds (average per round): 2.04e+01 (1.02e+00)\n",
      "[System function runs 25]..\n",
      "The # of found non-dominated rules (f, s): 23 (18, 5)\n",
      "Probability of branchs (f, s, u): (1.9096e-01, 7.80e-01, 2.9319e-02)\n",
      "The # of branches (f, s, u), (min, avg) len of rf: 1664 (298, 268, 1098), (1, 2.11)\n",
      "Elapsed seconds (average per round): 2.93e+01 (1.17e+00)\n",
      "[System function runs 30]..\n",
      "The # of found non-dominated rules (f, s): 27 (22, 5)\n",
      "Probability of branchs (f, s, u): (1.9577e-01, 7.83e-01, 2.1673e-02)\n",
      "The # of branches (f, s, u), (min, avg) len of rf: 2152 (461, 398, 1293), (1, 2.09)\n",
      "Elapsed seconds (average per round): 3.39e+01 (1.13e+00)\n",
      "[System function runs 35]..\n",
      "The # of found non-dominated rules (f, s): 32 (27, 5)\n",
      "Probability of branchs (f, s, u): (2.0116e-01, 7.83e-01, 1.6289e-02)\n",
      "The # of branches (f, s, u), (min, avg) len of rf: 1413 (361, 212, 840), (1, 2.04)\n",
      "Elapsed seconds (average per round): 3.85e+01 (1.10e+00)\n",
      "[System function runs 40]..\n",
      "The # of found non-dominated rules (f, s): 37 (32, 5)\n",
      "Probability of branchs (f, s, u): (2.0435e-01, 7.83e-01, 1.3099e-02)\n",
      "The # of branches (f, s, u), (min, avg) len of rf: 1464 (406, 212, 846), (1, 2.16)\n",
      "Elapsed seconds (average per round): 4.01e+01 (1.00e+00)\n",
      "[System function runs 45]..\n",
      "The # of found non-dominated rules (f, s): 42 (37, 5)\n",
      "Probability of branchs (f, s, u): (2.0702e-01, 7.83e-01, 1.0427e-02)\n",
      "The # of branches (f, s, u), (min, avg) len of rf: 1554 (351, 212, 991), (1, 2.24)\n",
      "Elapsed seconds (average per round): 4.60e+01 (1.02e+00)\n",
      "[System function runs 50]..\n",
      "The # of found non-dominated rules (f, s): 47 (42, 5)\n",
      "Probability of branchs (f, s, u): (2.0935e-01, 7.83e-01, 8.0932e-03)\n",
      "The # of branches (f, s, u), (min, avg) len of rf: 1724 (514, 212, 998), (1, 2.31)\n",
      "Elapsed seconds (average per round): 4.82e+01 (9.64e-01)\n",
      "\n",
      "*Final decomposition is completed with 1511 branches (originally 1583 branches).\n",
      "\n",
      "***Analysis completed with f_sys runs 53: out_flag = max_rules***\n",
      "The # of found non-dominated rules (f, s): 50 (45, 5)\n",
      "Probability of branchs (f, s, u): (2.1097e-01, 7.83e-01, 6.4707e-03)\n",
      "The # of branches (f, s, u), (min, avg) len of rf: 1511 (431, 212, 868), (1, 2.31)\n",
      "Elapsed seconds (average per round): 5.87e+01 (1.09e+00)\n"
     ]
    }
   ],
   "source": [
    "sf_brc = lambda comps_st: sys_fun(comps_st, G, thres, od_pair, d_time_itc, min_edge_capa=min_edge_capa)\n",
    "\n",
    "brs, rules, sys_res, monitor = brc.run(probs, sf_brc,\n",
    "                                       pf_bnd_wr=0.01, max_rules=50, surv_first=True,\n",
    "                                       active_decomp=10, display_freq=5)"
   ]
  },
  {
   "cell_type": "code",
   "execution_count": 126,
   "metadata": {},
   "outputs": [],
   "source": [
    "fpath_rule = f\"./rules_{od_pair[0]}_{od_pair[1]}_v1.json\"\n",
    "with open(fpath_rule, \"w\") as f:\n",
    "    json.dump(rules, f, indent=4)\n",
    "\n",
    "fpath_br = f\"./brs_{od_pair[0]}_{od_pair[1]}_v1.parquet\"\n",
    "branch.save_brs_to_parquet(brs, fpath_br)\n",
    "\n",
    "fpath_mon = f\"./monitor_{od_pair[0]}_{od_pair[1]}_v1.json\"\n",
    "with open(fpath_mon, \"w\") as f:\n",
    "    json.dump(monitor, f, indent=4)\n",
    "\n",
    "fpath_res = f\"./sys_res_{od_pair[0]}_{od_pair[1]}_v1.json\"\n",
    "sys_res.to_json( fpath_res, orient='records', lines=True )\n",
    "\n"
   ]
  },
  {
   "cell_type": "code",
   "execution_count": 127,
   "metadata": {},
   "outputs": [],
   "source": [
    "varis['sys'] = variable.Variable(name='sys', values=['f','s','u'])\n",
    "\n",
    "Csys = branch.get_cmat(brs, {x: varis[x] for x in probs})\n",
    "psys = np.ones((Csys.shape[0],1))\n",
    "\n",
    "cpms['sys'] = cpm.Cpm(variables=[varis['sys']]+[varis[x] for x in probs], no_child=1, C=Csys, p=psys)\n",
    "\n",
    "with open(f'./varis_{od_pair[0]}_{od_pair[1]}_v1.pickle', 'wb') as f:\n",
    "    pickle.dump(varis, f)\n",
    "with open(f'./cpms_{od_pair[0]}_{od_pair[1]}_v1.pickle', 'wb') as f:\n",
    "    pickle.dump(cpms, f)"
   ]
  },
  {
   "cell_type": "markdown",
   "metadata": {},
   "source": [
    "*Appendix: try different min_edge_capa\n",
    "\n",
    "- min_edge_capa = 50"
   ]
  },
  {
   "cell_type": "code",
   "execution_count": 120,
   "metadata": {},
   "outputs": [
    {
     "name": "stdout",
     "output_type": "stream",
     "text": [
      "[System function runs 5]..\n",
      "The # of found non-dominated rules (f, s): 4 (0, 4)\n",
      "Probability of branchs (f, s, u): (0.0000e+00, 9.96e-01, 3.8945e-03)\n",
      "The # of branches (f, s, u), (min, avg) len of rf: 207 (0, 36, 171), (0, 0.00)\n",
      "Elapsed seconds (average per round): 2.91e-01 (5.83e-02)\n",
      "[System function runs 10]..\n",
      "The # of found non-dominated rules (f, s): 9 (0, 9)\n",
      "Probability of branchs (f, s, u): (0.0000e+00, 1.00e+00, 5.0653e-05)\n",
      "The # of branches (f, s, u), (min, avg) len of rf: 14146 (0, 1056, 13090), (0, 0.00)\n",
      "Elapsed seconds (average per round): 2.98e+01 (2.98e+00)\n",
      "\n",
      "*Final decomposition is completed with 5144 branches (originally 5144 branches).\n",
      "\n",
      "***Analysis completed with f_sys runs 11: out_flag = max_rules***\n",
      "The # of found non-dominated rules (f, s): 10 (0, 10)\n",
      "Probability of branchs (f, s, u): (0.0000e+00, 1.00e+00, 2.8384e-05)\n",
      "The # of branches (f, s, u), (min, avg) len of rf: 5144 (0, 751, 4393), (0, 0.00)\n",
      "Elapsed seconds (average per round): 7.00e+01 (5.83e+00)\n"
     ]
    }
   ],
   "source": [
    "sf_brc = lambda comps_st: sys_fun(comps_st, G, thres, od_pair, d_time_itc, min_edge_capa=50)\n",
    "\n",
    "brs, rules, sys_res, monitor = brc.run(probs, sf_brc,\n",
    "                                       pf_bnd_wr=0.00, max_rules=10, surv_first=True,\n",
    "                                       active_decomp=10, display_freq=5)"
   ]
  },
  {
   "cell_type": "markdown",
   "metadata": {},
   "source": [
    "Result: much more likely to survive."
   ]
  },
  {
   "cell_type": "markdown",
   "metadata": {},
   "source": [
    "- min_edge_capa = 100"
   ]
  },
  {
   "cell_type": "code",
   "execution_count": 122,
   "metadata": {},
   "outputs": [
    {
     "name": "stdout",
     "output_type": "stream",
     "text": [
      "[System function runs 5]..\n",
      "The # of found non-dominated rules (f, s): 4 (2, 2)\n",
      "Probability of branchs (f, s, u): (1.1805e-01, 6.99e-01, 1.8339e-01)\n",
      "The # of branches (f, s, u), (min, avg) len of rf: 438 (28, 16, 394), (2, 2.00)\n",
      "Elapsed seconds (average per round): 1.00e+00 (2.00e-01)\n",
      "[System function runs 10]..\n",
      "The # of found non-dominated rules (f, s): 9 (6, 3)\n",
      "Probability of branchs (f, s, u): (1.6484e-01, 7.62e-01, 7.3517e-02)\n",
      "The # of branches (f, s, u), (min, avg) len of rf: 1544 (678, 39, 827), (1, 1.83)\n",
      "Elapsed seconds (average per round): 6.38e+00 (6.38e-01)\n",
      "\n",
      "*Final decomposition is completed with 284 branches (originally 284 branches).\n",
      "\n",
      "***Analysis completed with f_sys runs 11: out_flag = max_rules***\n",
      "The # of found non-dominated rules (f, s): 10 (7, 3)\n",
      "Probability of branchs (f, s, u): (1.7398e-01, 7.62e-01, 6.4377e-02)\n",
      "The # of branches (f, s, u), (min, avg) len of rf: 284 (8, 17, 259), (1, 1.86)\n",
      "Elapsed seconds (average per round): 8.13e+00 (6.77e-01)\n"
     ]
    }
   ],
   "source": [
    "sf_brc = lambda comps_st: sys_fun(comps_st, G, thres, od_pair, d_time_itc, min_edge_capa=100)\n",
    "\n",
    "brs, rules, sys_res, monitor = brc.run(probs, sf_brc,\n",
    "                                       pf_bnd_wr=0.00, max_rules=10, surv_first=True,\n",
    "                                       active_decomp=10, display_freq=5)"
   ]
  },
  {
   "cell_type": "markdown",
   "metadata": {},
   "source": [
    "Result: more likely to fail."
   ]
  },
  {
   "cell_type": "markdown",
   "metadata": {},
   "source": [
    "# Inference"
   ]
  },
  {
   "cell_type": "markdown",
   "metadata": {},
   "source": [
    "Load data"
   ]
  },
  {
   "cell_type": "code",
   "execution_count": 133,
   "metadata": {},
   "outputs": [
    {
     "name": "stdout",
     "output_type": "stream",
     "text": [
      "scenario to be added later\n"
     ]
    }
   ],
   "source": [
    "with open(f'./varis_{od_pair[0]}_{od_pair[1]}_v1.pickle', 'rb') as f:\n",
    "    varis = pickle.load(f)\n",
    "with open(f'./cpms_{od_pair[0]}_{od_pair[1]}_v1.pickle', 'rb') as f:\n",
    "    cpms = pickle.load(f)\n",
    "cfg = config.Config(HOME.joinpath('./config.json'))\n",
    "\n",
    "fpath_rule = f\"./rules_{od_pair[0]}_{od_pair[1]}_v1.json\"\n",
    "with open(fpath_rule, \"r\") as f:\n",
    "    rules = json.load(f)\n"
   ]
  },
  {
   "cell_type": "markdown",
   "metadata": {},
   "source": [
    "## Update component prob"
   ]
  },
  {
   "cell_type": "code",
   "execution_count": 135,
   "metadata": {},
   "outputs": [
    {
     "name": "stdout",
     "output_type": "stream",
     "text": [
      "{'0277': {0: 0.0944034037193644, 1: 0.9055965962806356}, '0278': {0: 0.0053592467109883, 1: 0.9946407532890117}, '0279': {0: 0.0051202648238796, 1: 0.9948797351761204}, '0280': {0: 0.0014664184445196, 1: 0.9985335815554804}, '0281': {0: 0.0011574244236495, 1: 0.9988425755763505}, '0282': {0: 0.0027101770812885, 1: 0.9972898229187115}, '0283': {0: 0.0016462808932509, 1: 0.9983537191067491}, '0284': {0: 0.0587751195665464, 1: 0.9412248804334536}, '0285': {0: 0.0013042514493005, 1: 0.9986957485506995}, '0286': {0: 0.0013118952568398, 1: 0.9986881047431602}, '0287': {0: 0.0510761420465468, 1: 0.9489238579534532}, '0288': {0: 0.0013352206913295, 1: 0.9986647793086705}, '0289': {0: 0.00048799105003709476, 1: 0.999512008949963}, '0290': {0: 0.169447689715327, 1: 0.830552310284673}, '0291': {0: 0.0679430607421744, 1: 0.9320569392578256}, '0299': {0: 0.0010939813132391, 1: 0.9989060186867609}, '0300': {0: 0.039631509935041206, 1: 0.9603684900649588}, '0301': {0: 0.0007713046230969475, 1: 0.9992286953769031}, '0302': {0: 0.0004093747876999787, 1: 0.9995906252123}, '0303': {0: 0.018625862934322203, 1: 0.9813741370656778}, '0304': {0: 0.0002524725597483824, 1: 0.9997475274402516}, '0305': {0: 0.0277938221801707, 1: 0.9722061778198293}, '0361': {0: 0.07017182080571979, 1: 0.9298281791942802}, '0369': {0: 0.0014809044350670337, 1: 0.998519095564933}, '0574': {0: 0.4762978109550837, 1: 0.5237021890449163}, '0576': {0: 0.043857745955815805, 1: 0.9561422540441842}, '0579': {0: 0.0029002870303702, 1: 0.9970997129696298}, '0580': {0: 0.0022453381135237, 1: 0.9977546618864763}, '0589': {0: 0.0009847273480128732, 1: 0.9990152726519871}, '0592': {0: 0.0016779901695552, 1: 0.9983220098304448}, '0596': {0: 8.811872637295611e-05, 1: 0.9999118812736271}, '0597': {0: 1.802916938409005e-05, 1: 0.9999819708306159}, '0598': {0: 2.2010939455277398e-08, 1: 0.9999999779890606}, '0602': {0: 4.330773477613258e-08, 1: 0.9999999566922653}, '0606': {0: 0.2920817057748071, 1: 0.7079182942251929}, '0612': {0: 0.12232405949924341, 1: 0.8776759405007566}, '0613': {0: 0.0737923599938339, 1: 0.9262076400061661}, '0617': {0: 0.005124032602694, 1: 0.994875967397306}, '0627': {0: 2.658122092299122e-06, 1: 0.9999973418779077}, '0631A': {0: 0.0001560016877263797, 1: 0.9998439983122737}, '0632A': {0: 0.013304807662183, 1: 0.986695192337817}, '0633A': {0: 0.0059794868487169, 1: 0.9940205131512831}, '0634': {0: 0.0021898399347804, 1: 0.9978101600652196}, '0637': {0: 0.0015999455621247, 1: 0.9984000544378753}, '0638': {0: 0.1566572484969051, 1: 0.8433427515030949}, '0639': {0: 7.319317274184663e-07, 1: 0.9999992680682726}, '0641': {0: 1.8011577431403892e-07, 1: 0.9999998198842257}, '0692': {0: 0.0026779053048632, 1: 0.9973220946951368}, '0693': {0: 0.0003221918424900923, 1: 0.99967780815751}, '0694': {0: 0.0004010078439111812, 1: 0.9995989921560888}, '0714': {0: 3.67747722830671e-05, 1: 0.999963225227717}, '0715': {0: 9.198326340658901e-05, 1: 0.9999080167365935}, '0717': {0: 3.5262802037135995e-08, 1: 0.999999964737198}, '0729': {0: 0.00044482431886756475, 1: 0.9995551756811324}, '0730': {0: 0.0005024739663978857, 1: 0.9994975260336021}, '0752': {0: 0.1248845112226098, 1: 0.8751154887773902}, '0753': {0: 0.0479700038143781, 1: 0.9520299961856219}, '0754': {0: 0.0004538871489666123, 1: 0.9995461128510333}, '0761': {0: 0.0030332964113495, 1: 0.9969667035886505}, '0762': {0: 0.000839761037876872, 1: 0.9991602389621231}, '0763A': {0: 0.0039689891944612, 1: 0.9960310108055388}, '0765': {0: 2.8756217859490982e-11, 1: 0.9999999999712438}, '0897': {0: 0.0196842550912097, 1: 0.9803157449087903}, '0898': {0: 0.0126763689659169, 1: 0.987323631034083}, '1006': {0: 5.7728157328972475e-06, 1: 0.9999942271842671}, '1007': {0: 5.7728157328972475e-06, 1: 0.9999942271842671}, '1046': {0: 0.0514091506598173, 1: 0.9485908493401827}, '1047': {0: 0.0551976892445582, 1: 0.9448023107554417}, '1050': {0: 5.098036119694845e-06, 1: 0.9999949019638803}, '1065': {0: 1.4246091585120856e-05, 1: 0.9999857539084149}, '1149': {0: 0.0017403727332983999, 1: 0.9982596272667016}, '1150': {0: 0.00014171513505862712, 1: 0.9998582848649413}, '1153': {0: 0.0100902354099097, 1: 0.9899097645900903}, '1154': {0: 0.0013826289635008, 1: 0.9986173710364992}, '1463': {0: 0.0006222737090297428, 1: 0.9993777262909702}, '1464': {0: 0.059194961281146596, 1: 0.9408050387188533}, '1465': {0: 0.0007206488188066513, 1: 0.9992793511811934}, '1466': {0: 0.0436172642294701, 1: 0.9563827357705299}, '1467': {0: 0.0028485237901835, 1: 0.9971514762098165}, '1468': {0: 0.0044757523958221, 1: 0.9955242476041779}, '1469': {0: 0.0024040477119228, 1: 0.9975959522880772}, '1504': {0: 0.0021729178914492997, 1: 0.9978270821085506}, '4151': {0: 0.0023621039395541003, 1: 0.997637896060446}, '4154': {0: 0.3436735314373386, 1: 0.6563264685626614}, '4156': {0: 0.059533532613413306, 1: 0.9404664673865867}, '4166A': {0: 2.3313410824510584e-06, 1: 0.9999976686589176}, '4184': {0: 0.1624400297327685, 1: 0.8375599702672315}, '4527': {0: 0.0258528513014512, 1: 0.9741471486985488}, '4556A': {0: 0.0017968338883402, 1: 0.9982031661116598}, '4815': {0: 0.485608583665046, 1: 0.514391416334954}, '5093': {0: 3.871974846061105e-11, 1: 0.9999999999612803}, '5099A': {0: 2.2108534221392447e-06, 1: 0.9999977891465779}, '5100A': {0: 5.765849615245269e-06, 1: 0.9999942341503848}, '5281': {0: 1.455792396961361e-09, 1: 0.9999999985442076}, '6223A': {0: 7.819147583682469e-06, 1: 0.9999921808524164}, '9186': {0: 0.0035307775122792, 1: 0.9964692224877209}, '9187': {0: 0.0012409859917941, 1: 0.9987590140082059}, '9306': {0: 0.0629403100350389, 1: 0.9370596899649611}}\n"
     ]
    }
   ],
   "source": [
    "file_dmg = \"./avg_gmf_69_dmg.csv\"\n",
    "probs_all = pd.read_csv(file_dmg, index_col=0)\n",
    "probs_all.index = probs_all.index.astype('str')\n",
    "probs_all['failure'] = probs_all['Extensive'] + probs_all['Complete']\n",
    "probs_all = probs_all.to_dict('index')\n",
    "\n",
    "probs = {k: {0: v['failure'], 1: 1.0-v['failure']} for k, v in probs_all.items() if k in varis.keys()}\n",
    "print(probs)\n",
    "\n",
    "# update component CPMs' probabilities\n",
    "for k, v in probs.items():\n",
    "    cpms[k].p = np.array([v[0], v[1]]).T"
   ]
  },
  {
   "cell_type": "markdown",
   "metadata": {},
   "source": [
    "## Paths' survival probabilities"
   ]
  },
  {
   "cell_type": "code",
   "execution_count": 145,
   "metadata": {},
   "outputs": [
    {
     "name": "stdout",
     "output_type": "stream",
     "text": [
      "Index(['sys_val', 'comp_st', 'comp_st_min'], dtype='object')\n"
     ]
    }
   ],
   "source": [
    "print(sys_res.columns)"
   ]
  },
  {
   "cell_type": "code",
   "execution_count": null,
   "metadata": {},
   "outputs": [],
   "source": []
  },
  {
   "cell_type": "code",
   "execution_count": 159,
   "metadata": {},
   "outputs": [
    {
     "name": "stdout",
     "output_type": "stream",
     "text": [
      "[8037.0, 10602.0, 8654.0, 9176.0, 11203.0]\n",
      "[{'0290': 1, '0289': 1, '0288': 1, '0287': 1, '0286': 1, '0285': 1, '0284': 1, '0283': 1, '0282': 1, '0281': 1, '0280': 1, '0279': 1, '0278': 1, '0277': 1, '0613': 1, '1149': 1, '1150': 1, '1153': 1, '1154': 1, '0617': 1, '1006': 1, '1007': 1, '1050': 1, '0627': 1}, {'0290': 1, '0289': 1, '0288': 1, '0287': 1, '0286': 1, '0285': 1, '0284': 1, '0283': 1, '0282': 1, '0281': 1, '0280': 1, '0279': 1, '0278': 1, '0277': 1, '0612': 1, '9186': 1, '1469': 1, '1468': 1, '1504': 1, '1467': 1, '1466': 1, '1465': 1, '1464': 1, '1463': 1, '9187': 1, '1149': 1, '1150': 1, '1153': 1, '1154': 1, '0617': 1, '1006': 1, '1007': 1, '1050': 1, '0627': 1}, {'0290': 1, '0289': 1, '0288': 1, '0287': 1, '0286': 1, '0285': 1, '0284': 1, '0283': 1, '4156': 1, '4154': 1, '4815': 1, '0612': 1, '9186': 1, '1469': 1, '1468': 1, '1504': 1, '1467': 1, '1466': 1, '1465': 1, '1464': 1, '1463': 1, '9187': 1, '1149': 1, '1150': 1, '1153': 1, '1154': 1, '0617': 1, '1006': 1, '1007': 1, '1050': 1, '0627': 1}, {'0576': 1, '0574': 1, '9306': 1, '1046': 1, '1047': 1, '9186': 1, '1469': 1, '1468': 1, '1504': 1, '1467': 1, '1466': 1, '1465': 1, '1464': 1, '1463': 1, '9187': 1, '1149': 1, '1150': 1, '1153': 1, '1154': 1, '0617': 1, '1006': 1, '1007': 1, '1050': 1, '0627': 1}, {'0576': 1, '0574': 1, '9306': 1, '1046': 1, '1047': 1, '0612': 1, '0277': 1, '0613': 1, '1149': 1, '1150': 1, '1153': 1, '1154': 1, '0617': 1, '1006': 1, '1007': 1, '1050': 1, '0627': 1}]\n",
      "[8037.0, 8654.0, 9176.0, 10602.0, 11203.0]\n",
      "[0.5975102301414219, 0.5003416621784436, 0.17822593020824004, 0.3647764226974743, 0.30388454029725]\n"
     ]
    },
    {
     "name": "stderr",
     "output_type": "stream",
     "text": [
      "C:\\Users\\bjieu\\AppData\\Local\\Temp\\ipykernel_21296\\403598323.py:5: DeprecationWarning: Conversion of an array with ndim > 0 to a scalar is deprecated, and will error in future. Ensure you extract a single element from your array before performing this operation. (Deprecated NumPy 1.25.)\n",
      "  rules_time.append(float(path_time))\n",
      "C:\\Users\\bjieu\\AppData\\Local\\Temp\\ipykernel_21296\\403598323.py:21: DeprecationWarning: Conversion of an array with ndim > 0 to a scalar is deprecated, and will error in future. Ensure you extract a single element from your array before performing this operation. (Deprecated NumPy 1.25.)\n",
      "  rules_prob.append(float(p_r))\n"
     ]
    }
   ],
   "source": [
    "# Path times\n",
    "rules_time = []\n",
    "for r in rules['s']:\n",
    "    path_time = sys_res[sys_res['comp_st_min']==r]['sys_val'].values\n",
    "    rules_time.append(float(path_time))\n",
    "\n",
    "print(rules_time)\n",
    "\n",
    "sort_idx = sorted(range(len(rules_time)), key=lambda i:rules_time[i], reverse=False)\n",
    "rules_s_sorted = [rules['s'][i] for i in sort_idx]\n",
    "print(rules_s_sorted)\n",
    "\n",
    "rules_time_sorted = [rules_time[i] for i in sort_idx]\n",
    "print(rules_time_sorted)\n",
    "\n",
    "rules_prob = []\n",
    "for r in rules_s_sorted:\n",
    "    p_r = 1.0\n",
    "    for k in r:\n",
    "        p_r *= cpms[k].p[1]\n",
    "    rules_prob.append(float(p_r))\n",
    "print(rules_prob)"
   ]
  },
  {
   "cell_type": "code",
   "execution_count": 206,
   "metadata": {},
   "outputs": [
    {
     "name": "stdout",
     "output_type": "stream",
     "text": [
      "[8037.0, 8654.0, 9176.0, 10602.0, 11203.0]\n"
     ]
    }
   ],
   "source": [
    "print(rules_time_sorted)"
   ]
  },
  {
   "cell_type": "code",
   "execution_count": 207,
   "metadata": {},
   "outputs": [
    {
     "name": "stdout",
     "output_type": "stream",
     "text": [
      "Cpm(variables=['sys'],\n",
      "no_child=1,\n",
      "C=[[1]\n",
      " [0]\n",
      " [2]],\n",
      "p=[[0.78255522]\n",
      " [0.21097413]\n",
      " [0.00647065]],\n",
      ")\n",
      "P(S=0) in (0.21097413246523927, 0.21744478277526424)\n"
     ]
    }
   ],
   "source": [
    "# System failure probability calculation\n",
    "Msys = inference.prod_Msys_and_Mcomps(cpms['sys'], [cpms[k] for k in probs.keys()]) # this is faster than var_elim (given that there are only a system event and component events to compute)\n",
    "Msys = Msys.sum([varis[k] for k in probs])\n",
    "P_S0_low = Msys.get_prob([varis['sys']], [0])\n",
    "P_S0_up = 1.0 - Msys.get_prob([varis['sys']], [1])\n",
    "\n",
    "print(Msys)\n",
    "print(f\"P(S=0) in ({P_S0_low}, {P_S0_up})\")"
   ]
  },
  {
   "cell_type": "code",
   "execution_count": 217,
   "metadata": {},
   "outputs": [
    {
     "data": {
      "image/png": "[encoded data removed]",
      "text/plain": [
       "<Figure size 1000x500 with 1 Axes>"
      ]
     },
     "metadata": {},
     "output_type": "display_data"
    }
   ],
   "source": [
    "fsz = 16\n",
    "colors = ['C0'] * len(rules_prob) + ['red']\n",
    "\n",
    "plt.figure(figsize=(10, 5))\n",
    "plt.bar(\n",
    "    range(len(rules_prob) + 1),\n",
    "    rules_prob + [P_S0_up],\n",
    "    tick_label=rules_time_sorted + ['Disconn\\n(upper\\nbound)'],\n",
    "    color=colors\n",
    ")\n",
    "plt.xlabel(\"Travel Time (seconds)\", fontsize=fsz)\n",
    "plt.ylabel(\"Rules Probability\", fontsize=fsz)\n",
    "plt.xticks(fontsize=fsz, rotation=45)\n",
    "plt.yticks(fontsize=fsz)\n",
    "plt.show()"
   ]
  },
  {
   "cell_type": "markdown",
   "metadata": {},
   "source": [
    "## Component importance measures\n",
    "\n",
    "$CPIM = P( X_n = 0 | S = 0 )$, where <br>\n",
    "$P( X_n = 0, S = 0 ) \\in [\\bar{P}( X_n = 0, S = 0 ), 1-\\bar{P}( X_n = 1, S = 0 )-\\bar{P}( X_n = 0, S = 1 )-\\bar{P}( X_n = 1, S = 1 )]$ and <br>\n",
    "$P( S = 0 ) \\in [\\bar{P}( S = 0 ), 1-\\bar{P}( S = 1 )]$.\n",
    "\n",
    "$\\bar{P}(\\cdot)$ denotes the probability obtained from incomplete identification of rules by BRC."
   ]
  },
  {
   "cell_type": "code",
   "execution_count": 185,
   "metadata": {},
   "outputs": [],
   "source": [
    "P_Xn0_S0 = {}\n",
    "for k in probs.keys():\n",
    "    Msys_k = inference.prod_Msys_and_Mcomps(cpms['sys'], [cpms[k2] for k2 in probs.keys() if k2!=k]) # this is faster than var_elim (given that there are only a system event and component events to compute)\n",
    "    Msys_k = Msys_k.sum([varis['sys']], False)\n",
    "    Msys_k = Msys_k.product(cpms[k])\n",
    "    \n",
    "    p_num_low = Msys_k.get_prob([varis['sys'], varis[k]], [0, 0])\n",
    "    p_num_up = 1.0 - Msys_k.get_prob([varis['sys'], varis[k]], [0, 1]) - Msys_k.get_prob([varis['sys'], varis[k]], [1, 0]) - Msys_k.get_prob([varis['sys'], varis[k]], [1, 1])\n",
    "\n",
    "    p_int = (p_num_low / P_S0_up, p_num_up / P_S0_low)\n",
    "    P_Xn0_S0[k] = p_int"
   ]
  },
  {
   "cell_type": "code",
   "execution_count": 205,
   "metadata": {},
   "outputs": [],
   "source": [
    "P_Xn0_S0_sorted = dict(sorted(P_Xn0_S0.items(), key=lambda item: item[1][0], reverse=True))\n"
   ]
  },
  {
   "cell_type": "code",
   "execution_count": 204,
   "metadata": {},
   "outputs": [
    {
     "data": {
      "image/png": "[encoded data removed]",
      "text/plain": [
       "<Figure size 1000x600 with 1 Axes>"
      ]
     },
     "metadata": {},
     "output_type": "display_data"
    }
   ],
   "source": [
    "# visualisation\n",
    "P_Xn0_S0_to_draw = list(P_Xn0_S0_sorted.items())[:20]\n",
    "\n",
    "# Extract labels, midpoints, and bounds\n",
    "labels = [k for k, _ in P_Xn0_S0_to_draw]\n",
    "low = [v[0] for _, v in P_Xn0_S0_to_draw]\n",
    "high = [v[1] for _, v in P_Xn0_S0_to_draw]\n",
    "mid = [(l + h) / 2 for l, h in zip(low, high)]\n",
    "error = [(m - l, h - m) for m, l, h in zip(mid, low, high)]\n",
    "lower_err, upper_err = zip(*error)\n",
    "\n",
    "# Plot as vertical error bars\n",
    "plt.figure(figsize=(10, 6))\n",
    "plt.errorbar(x=range(len(labels)), y=mid, \n",
    "             yerr=[lower_err, upper_err], \n",
    "             fmt='o', capsize=10)\n",
    "\n",
    "# Formatting\n",
    "plt.xticks(ticks=range(len(labels)), labels=labels, rotation=45, fontsize=fsz)\n",
    "plt.ylabel(\"P(Xn=fail | S = fail)\", fontsize=fsz)\n",
    "plt.xlabel(\"Bridge ID\", fontsize=fsz)\n",
    "plt.yticks(fontsize=fsz)\n",
    "plt.grid(True)\n",
    "plt.show()"
   ]
  }
 ],
 "metadata": {
  "kernelspec": {
   "display_name": "mbn_dev",
   "language": "python",
   "name": "python3"
  },
  "language_info": {
   "codemirror_mode": {
    "name": "ipython",
    "version": 3
   },
   "file_extension": ".py",
   "mimetype": "text/x-python",
   "name": "python",
   "nbconvert_exporter": "python",
   "pygments_lexer": "ipython3",
   "version": "3.12.9"
  }
 },
 "nbformat": 4,
 "nbformat_minor": 2
}
