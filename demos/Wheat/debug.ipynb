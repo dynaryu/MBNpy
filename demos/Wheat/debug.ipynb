{
 "cells": [
  {
   "cell_type": "code",
   "execution_count": null,
   "metadata": {},
   "outputs": [],
   "source": [
    "from pathlib import Path\n",
    "import pandas as pd\n",
    "import json\n",
    "import networkx as nx\n",
    "import matplotlib.pyplot as plt\n",
    "import pdb\n",
    "import pickle\n",
    "import numpy as np\n",
    "from typing_extensions import Annotated\n",
    "import time\n",
    "import copy\n",
    "\n",
    "from mbnpy import model, config, trans, variable, brc, branch, cpm, operation\n",
    "\n",
    "HOME = Path().resolve()\n",
    "\n",
    "%matplotlib inline"
   ]
  },
  {
   "cell_type": "code",
   "execution_count": 9,
   "metadata": {},
   "outputs": [],
   "source": [
    "#file_model=r'./BNS_JT/demos/Wheat/model_Wooroloo-Merredin_5.pk'\n",
    "#file_dmg=r'./BNS_JT/demos/Wheat/avg_gmf_69_dmg.csv'\n",
    "\n",
    "file_model=r'./model_Wooroloo-Merredin_5.pk'\n",
    "file_dmg=r'./avg_gmf_69_dmg.csv'\n",
    "\n",
    "key = 'Wooroloo-Merredin'"
   ]
  },
  {
   "cell_type": "code",
   "execution_count": 10,
   "metadata": {},
   "outputs": [
    {
     "name": "stdout",
     "output_type": "stream",
     "text": [
      "scenario to be added later\n"
     ]
    }
   ],
   "source": [
    "cfg = config.Config(HOME.joinpath('./config.json'))\n",
    "\n",
    "with open(file_model, 'rb') as f:\n",
    "    dump = pickle.load(f)\n",
    "    cpms = dump['cpms']\n",
    "    varis = dump['varis']\n",
    "    path_names = dump['path_names']\n",
    "\n",
    "# assign cpms given scenario\n",
    "probs = pd.read_csv(file_dmg, index_col=0)\n",
    "\n",
    "probs.index = probs.index.astype('str')\n",
    "probs = probs.to_dict('index')\n",
    "\n",
    "for k, v in cfg.infra['nodes'].items():\n",
    "    #varis[k] = variable.Variable(name=k, values = [np.inf, 1.0*v['weight']])\n",
    "    try:\n",
    "        pf = probs[k]['Extensive'] + probs[k]['Complete']\n",
    "    except KeyError:\n",
    "        pf = 0.0\n",
    "    finally:\n",
    "        cpms[k] = cpm.Cpm(variables = [varis[k]], no_child=1,\n",
    "                        C = np.array([0, 1]).T, p = [pf, 1-pf])\n",
    "\n",
    "od_pair = cfg.infra['ODs'][key]\n",
    "od_name = '_'.join(od_pair)\n",
    "VE_ord = list(cfg.infra['nodes'].keys()) + path_names\n",
    "vars_inf = operation.get_inf_vars(cpms, od_name, VE_ord)"
   ]
  },
  {
   "cell_type": "code",
   "execution_count": 15,
   "metadata": {},
   "outputs": [
    {
     "name": "stdout",
     "output_type": "stream",
     "text": [
      "Cpm(\n",
      "    variables=['Wooroloo_Merredin', 'Wooroloo_Merredin_0', 'Wooroloo_Merredin_1', 'Wooroloo_Merredin_2', 'Wooroloo_Merredin_3', 'Wooroloo_Merredin_4'],\n",
      "    no_child=1,\n",
      "    C=[[5 1 2 2 2 2]\n",
      " [4 0 1 2 2 2]\n",
      " [3 0 0 1 2 2]\n",
      " [2 0 0 0 1 2]\n",
      " [1 0 0 0 0 1]\n",
      " [0 0 0 0 0 0]],\n",
      "    p=[[1.]\n",
      " [1.]\n",
      " [1.]\n",
      " [1.]\n",
      " [1.]\n",
      " [1.]],\n",
      ")\n"
     ]
    }
   ],
   "source": [
    "print(cpms[od_name])\n",
    "\n",
    "od_name_debug = od_name + '_debug'\n",
    "cpms[od_name_debug] = copy.deepcopy( cpms[od_name] )"
   ]
  },
  {
   "cell_type": "code",
   "execution_count": 30,
   "metadata": {},
   "outputs": [],
   "source": [
    "cols_to_keep = [0, 1, 2, 3]\n",
    "\n",
    "cpms[od_name_debug].variables = [cpms[od_name].variables[i] for i in cols_to_keep]\n",
    "varis[od_name_debug] = variable.Variable(name=od_name_debug, values = [np.inf] + [varis[od_name].values[cols_to_keep[i]] for i in cols_to_keep[1:]])\n",
    "cpms[od_name_debug].C = np.array([[3, 1, 2, 2], [2, 0, 1, 2], [1, 0, 0, 1], [0, 0, 0, 0]])\n",
    "cpms[od_name_debug].p = np.array([1.0, 1.0, 1.0, 1.0])\n",
    "\n"
   ]
  },
  {
   "cell_type": "code",
   "execution_count": 31,
   "metadata": {},
   "outputs": [
    {
     "name": "stdout",
     "output_type": "stream",
     "text": [
      "Cpm(\n",
      "    variables=['Wooroloo_Merredin', 'Wooroloo_Merredin_0', 'Wooroloo_Merredin_1', 'Wooroloo_Merredin_2'],\n",
      "    no_child=1,\n",
      "    C=[[3 1 2 2]\n",
      " [2 0 1 2]\n",
      " [1 0 0 1]\n",
      " [0 0 0 0]],\n",
      "    p=[[1.]\n",
      " [1.]\n",
      " [1.]\n",
      " [1.]],\n",
      ")\n",
      "'Variable(name=Wooroloo_Merredin_debug, values=[inf, 8485, 8484, 8441], B=[{0}, {1}, {2}, {3}, {0, 1}, {0, 2}, {0, 3}, {1, 2}, {1, 3}, {2, 3}, {0, 1, 2}, {0, 1, 3}, {0, 2, 3}, {1, 2, 3}, {0, 1, 2, 3}])'\n"
     ]
    }
   ],
   "source": [
    "print(cpms[od_name_debug])\n",
    "print(varis[od_name_debug])"
   ]
  },
  {
   "cell_type": "code",
   "execution_count": 32,
   "metadata": {},
   "outputs": [
    {
     "name": "stdout",
     "output_type": "stream",
     "text": [
      "['Kellerberrin', 'Meckering', 'Cunderdin', '0612', '0613', '1047', '1006', '1007', '1050', '0627', 'Merredin', '1149', '9186', 'Wooroloo', '0606', '9306', '1046', '1468', '1504', '1467', '1466', '1465', '1464', '1463', '9187', '1150', '1153', '1154', '0617', 'Wooroloo_Merredin_0', 'Wooroloo_Merredin_1', 'Wooroloo_Merredin_2', 'Wooroloo_Merredin_debug']\n"
     ]
    }
   ],
   "source": [
    "VE_ord = list(cfg.infra['nodes'].keys()) + path_names\n",
    "vars_inf = operation.get_inf_vars(cpms, od_name_debug, VE_ord)\n",
    "print(vars_inf)"
   ]
  },
  {
   "cell_type": "code",
   "execution_count": 33,
   "metadata": {},
   "outputs": [],
   "source": [
    "Mod_debug = operation.variable_elim([cpms[k] for k in vars_inf], [v for v in vars_inf if v != od_name_debug])"
   ]
  },
  {
   "cell_type": "code",
   "execution_count": 34,
   "metadata": {},
   "outputs": [
    {
     "name": "stdout",
     "output_type": "stream",
     "text": [
      "[1.]\n",
      "Cpm(\n",
      "    variables=['Wooroloo_Merredin'],\n",
      "    no_child=1,\n",
      "    C=[[0]\n",
      " [3]\n",
      " [2]],\n",
      "    p=[[0.42887808]\n",
      " [0.51694973]\n",
      " [0.05417218]],\n",
      ")\n"
     ]
    }
   ],
   "source": [
    "print(sum(Mod_debug.p))\n",
    "print(Mod_debug)"
   ]
  },
  {
   "cell_type": "code",
   "execution_count": 23,
   "metadata": {},
   "outputs": [
    {
     "name": "stdout",
     "output_type": "stream",
     "text": [
      "Cpm(\n",
      "    variables=['Wooroloo_Merredin', 'Wooroloo_Merredin_0', 'Wooroloo_Merredin_1', 'Wooroloo_Merredin_2', 'Wooroloo_Merredin_3', 'Wooroloo_Merredin_4'],\n",
      "    no_child=1,\n",
      "    C=[[5 1 2 2 2 2]\n",
      " [4 0 1 2 2 2]\n",
      " [3 0 0 1 2 2]\n",
      " [2 0 0 0 1 2]\n",
      " [1 0 0 0 0 1]\n",
      " [0 0 0 0 0 0]],\n",
      "    p=[[1.]\n",
      " [1.]\n",
      " [1.]\n",
      " [1.]\n",
      " [1.]\n",
      " [1.]],\n",
      ")\n"
     ]
    }
   ],
   "source": [
    "print(cpms[od_name])"
   ]
  },
  {
   "cell_type": "code",
   "execution_count": 37,
   "metadata": {},
   "outputs": [
    {
     "name": "stdout",
     "output_type": "stream",
     "text": [
      "['Wooroloo_Merredin_0', 'Wooroloo', '0606', '9306', '1046', '1047', '9186', '1468', '1504', '1467', '1466', '1465', '1464', '1463', '9187', '1149', '1150', '1153', '1154', '0617', 'Meckering', 'Cunderdin', 'Kellerberrin', '1006', '1007', '1050', '0627', 'Merredin']\n",
      "['Wooroloo_Merredin_1', 'Wooroloo', '0606', '9306', '1046', '1047', '0612', '0613', '1149', '1150', '1153', '1154', '0617', 'Meckering', 'Cunderdin', 'Kellerberrin', '1006', '1007', '1050', '0627', 'Merredin']\n",
      "['Wooroloo_Merredin_2', 'Wooroloo', '0606', '9306', '1046', '1047', '9186', '0612', '0613', '1149', '1150', '1153', '1154', '0617', 'Meckering', 'Cunderdin', 'Kellerberrin', '1006', '1007', '1050', '0627', 'Merredin']\n"
     ]
    }
   ],
   "source": [
    "print([v.name for v in cpms[od_name + '_0'].variables])\n",
    "print([v.name for v in cpms[od_name + '_1'].variables])\n",
    "print([v.name for v in cpms[od_name + '_2'].variables])"
   ]
  }
 ],
 "metadata": {
  "kernelspec": {
   "display_name": "bns",
   "language": "python",
   "name": "python3"
  },
  "language_info": {
   "codemirror_mode": {
    "name": "ipython",
    "version": 3
   },
   "file_extension": ".py",
   "mimetype": "text/x-python",
   "name": "python",
   "nbconvert_exporter": "python",
   "pygments_lexer": "ipython3",
   "version": "3.10.12"
  }
 },
 "nbformat": 4,
 "nbformat_minor": 2
}
