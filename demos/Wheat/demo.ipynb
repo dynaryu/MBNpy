{
 "cells": [
  {
   "cell_type": "code",
   "execution_count": 1,
   "metadata": {},
   "outputs": [],
   "source": [
    "from pathlib import Path\n",
    "import pandas as pd\n",
    "import json\n",
    "import networkx as nx\n",
    "import matplotlib.pyplot as plt\n",
    "import pdb\n",
    "import pickle\n",
    "import numpy as np\n",
    "from typing_extensions import Annotated\n",
    "import time\n",
    "\n",
    "from BNS_JT import model, config, trans, variable, brc, branch, cpm, operation\n",
    "\n",
    "HOME = Path().resolve()\n",
    "\n",
    "%matplotlib inline"
   ]
  },
  {
   "cell_type": "markdown",
   "metadata": {},
   "source": [
    "# User inputs"
   ]
  },
  {
   "cell_type": "markdown",
   "metadata": {},
   "source": [
    "System event definition"
   ]
  },
  {
   "cell_type": "code",
   "execution_count": 2,
   "metadata": {},
   "outputs": [],
   "source": [
    "key = 'od1'\n",
    "thres = 5 # if it takes longer than this, we consider the od pair is disconnected"
   ]
  },
  {
   "cell_type": "markdown",
   "metadata": {},
   "source": [
    "Configuation data"
   ]
  },
  {
   "cell_type": "code",
   "execution_count": 3,
   "metadata": {},
   "outputs": [
    {
     "name": "stdout",
     "output_type": "stream",
     "text": [
      "scenario to be added later\n"
     ]
    }
   ],
   "source": [
    "# load data\n",
    "cfg = config.Config(HOME.joinpath('./config.json'))\n",
    "od_pair = cfg.infra['ODs'][key]"
   ]
  },
  {
   "cell_type": "markdown",
   "metadata": {},
   "source": [
    "Failure probabilities of each bridge (modelled as nodes in the graph)\n",
    "\n",
    "Here we assume binary states for each edge, assuming that \n",
    "connectivity is the most concerned factor for emergency activities\n",
    "i.e. congestion is not of concern"
   ]
  },
  {
   "cell_type": "code",
   "execution_count": 4,
   "metadata": {},
   "outputs": [
    {
     "name": "stdout",
     "output_type": "stream",
     "text": [
      "{'Wooroloo': [0.15, 0.85], 'Merredin': [0.05, 0.95], '0277': [0.05, 0.95], '0278': [0.15, 0.85], '0279': [0.15, 0.85], '0280': [0.05, 0.95], '0281': [0.05, 0.95], '0282': [0.15, 0.85], '0283': [0.05, 0.95], '0284': [0.15, 0.85], '0285': [0.05, 0.95], '0286': [0.3, 0.7], '0287': [0.15, 0.85], '0288': [0.3, 0.7], '0289': [0.05, 0.95], '0290': [0.3, 0.7], '0291': [0.15, 0.85], '0299': [0.3, 0.7], '0300': [0.05, 0.95], '0301': [0.05, 0.95], '0302': [0.3, 0.7], '0303': [0.05, 0.95], '0304': [0.15, 0.85], '0305': [0.3, 0.7], '0361': [0.3, 0.7], '0574': [0.05, 0.95], '0576': [0.15, 0.85], '0579': [0.15, 0.85], '0580': [0.3, 0.7], '0589': [0.05, 0.95], '0592': [0.3, 0.7], '0596': [0.15, 0.85], '0597': [0.15, 0.85], '0598': [0.15, 0.85], '0602': [0.15, 0.85], '0606': [0.3, 0.7], '0612': [0.15, 0.85], '0613': [0.15, 0.85], '0617': [0.05, 0.95], '0627': [0.05, 0.95], '0628': [0.15, 0.85], '0631A': [0.05, 0.95], '0632A': [0.05, 0.95], '0633A': [0.15, 0.85], '0634': [0.3, 0.7], '0637': [0.15, 0.85], '0639': [0.05, 0.95], '0692': [0.3, 0.7], '0693': [0.3, 0.7], '0694': [0.15, 0.85], '0752': [0.15, 0.85], '0753': [0.15, 0.85], '0754': [0.05, 0.95], '0761': [0.05, 0.95], '0762': [0.15, 0.85], '0763A': [0.05, 0.95], '0765': [0.3, 0.7], '0897': [0.05, 0.95], '0898': [0.05, 0.95], '1006': [0.15, 0.85], '1007': [0.15, 0.85], '1046': [0.3, 0.7], '1047': [0.05, 0.95], '1050': [0.05, 0.95], '1149': [0.15, 0.85], '1150': [0.3, 0.7], '1153': [0.3, 0.7], '1154': [0.15, 0.85], '1463': [0.05, 0.95], '1464': [0.3, 0.7], '1465': [0.15, 0.85], '1466': [0.3, 0.7], '1467': [0.15, 0.85], '1468': [0.05, 0.95], '1469': [0.15, 0.85], '1504': [0.15, 0.85], '4096': [0.3, 0.7], '4151': [0.05, 0.95], '4527': [0.05, 0.95], '4989': [0.3, 0.7], '5093': [0.3, 0.7], '5099A': [0.15, 0.85], '5100A': [0.05, 0.95], '5281': [0.3, 0.7], '6223A': [0.3, 0.7], '9186': [0.3, 0.7], '9187': [0.05, 0.95], '9306': [0.05, 0.95], '0641': [0.15, 0.85], '1065': [0.15, 0.85], '0369': [0.15, 0.85], '0714': [0.05, 0.95], '0715': [0.05, 0.95], '0717': [0.15, 0.85], '4815': [0.15, 0.85], '4154': [0.3, 0.7], '4156': [0.05, 0.95]}\n"
     ]
    }
   ],
   "source": [
    "# for temporary purpose; will be replaced with actual probability data\n",
    "rnd_state = np.random.RandomState(1) \n",
    "\n",
    "probs_set = {0: {0: 0.05, 1: 0.95},\n",
    "                1: {0: 0.15, 1: 0.85},\n",
    "                2: {0: 0.30, 1: 0.70},\n",
    "                }\n",
    "probs_key = rnd_state.choice(3, size=len(cfg.infra['edges']))\n",
    "\n",
    "# Here, we assume \n",
    "probs = {k: [probs_set[v][0], probs_set[v][1]]for k, v in zip(cfg.infra['nodes'].keys(), probs_key)}\n",
    "print(probs)"
   ]
  },
  {
   "cell_type": "markdown",
   "metadata": {},
   "source": [
    "# Modelling\n",
    "\n",
    "The Bayesian network consists of three layers, each representing bridges, paths, and the system. <br>\n",
    "The system event represents the time it takes from origin to destination.\n",
    "\n",
    "<img src='BN.jpeg' alt='BN graph' width='750' />"
   ]
  },
  {
   "cell_type": "markdown",
   "metadata": {},
   "source": [
    "Component events"
   ]
  },
  {
   "cell_type": "code",
   "execution_count": 5,
   "metadata": {},
   "outputs": [],
   "source": [
    "# variables\n",
    "varis = {}\n",
    "cpms = {}\n",
    "for k, v in cfg.infra['nodes'].items():\n",
    "    varis[k] = variable.Variable(name=k, values = ['f', 's'])\n",
    "    cpms[k] = cpm.Cpm(variables = [varis[k]], no_child=1,\n",
    "                        C = np.array([0, 1]).T, p = [probs[k][0], probs[k][1]])"
   ]
  },
  {
   "cell_type": "markdown",
   "metadata": {},
   "source": [
    "Network analysis"
   ]
  },
  {
   "cell_type": "code",
   "execution_count": 6,
   "metadata": {},
   "outputs": [
    {
     "name": "stdout",
     "output_type": "stream",
     "text": [
      "893\n"
     ]
    }
   ],
   "source": [
    "G = cfg.infra['G']\n",
    "d_time_itc = nx.shortest_path_length(G, source=od_pair[0], target=od_pair[1], weight='weight')\n",
    "print(d_time_itc)"
   ]
  },
  {
   "cell_type": "code",
   "execution_count": 7,
   "metadata": {},
   "outputs": [
    {
     "name": "stdout",
     "output_type": "stream",
     "text": [
      "Path (nodes): ['Wooroloo', '0361', 'Merredin']\n",
      "Path (edges): ['66', '67']\n",
      "Total weight: 893\n",
      "\n",
      "Path (nodes): ['Wooroloo', '4815', '4154', '4156', 'Merredin']\n",
      "Path (edges): ['95', '96', '97', '98']\n",
      "Total weight: 1342\n",
      "\n",
      "Path (nodes): ['Wooroloo', '0289', '0288', '0287', '0286', '0285', '0284', '0283', '0282', '0281', '0280', '0279', '0278', '0277', 'Merredin']\n",
      "Path (edges): ['76', '77', '78', '79', '80', '81', '82', '83', '84', '85', '86', '87', '88', '89']\n",
      "Total weight: 1442\n",
      "\n",
      "Path (nodes): ['Wooroloo', '0752', '0753', '0754', '0761', '0762', '0763A', '0765', 'Merredin']\n",
      "Path (edges): ['68', '69', '70', '71', '72', '73', '74', '75']\n",
      "Total weight: 3251\n",
      "\n"
     ]
    }
   ],
   "source": [
    "valid_paths = []\n",
    "all_paths = nx.all_simple_paths(G, od_pair[0], od_pair[1])\n",
    "\n",
    "for path in all_paths:\n",
    "    # Calculate the total weight of the path\n",
    "    path_edges = [(u, v) for u, v in zip(path[:-1], path[1:])]\n",
    "    path_weight = sum(G[u][v]['weight'] for u, v in path_edges)\n",
    "    \n",
    "    if path_weight < thres * d_time_itc: # select paths that are shorter than thres * d_time_itc\n",
    "        edge_names = [G[u][v].get('key', (u, v)) for u, v in path_edges]\n",
    "        valid_paths.append((path, edge_names, path_weight))\n",
    "\n",
    "# Sort valid paths by weight\n",
    "valid_paths = sorted(valid_paths, key=lambda x: x[2])\n",
    "\n",
    "# Print the paths with edge names and weights\n",
    "for path, edge_names, weight in valid_paths:\n",
    "    print(f\"Path (nodes): {path}\")\n",
    "    print(f\"Path (edges): {edge_names}\")\n",
    "    print(f\"Total weight: {weight}\\n\")"
   ]
  },
  {
   "cell_type": "markdown",
   "metadata": {},
   "source": [
    "System event modelling (1/2): individual valid paths"
   ]
  },
  {
   "cell_type": "code",
   "execution_count": 8,
   "metadata": {},
   "outputs": [
    {
     "name": "stdout",
     "output_type": "stream",
     "text": [
      "Cpm(\n",
      "    variables=['Wooroloo_Merredin_3', 'Wooroloo', '0752', '0753', '0754', '0761', '0762', '0763A', '0765', 'Merredin'],\n",
      "    no_child=1,\n",
      "    C=[[1 1 1 1 1 1 1 1 1 1]\n",
      " [0 0 2 2 2 2 2 2 2 2]\n",
      " [0 1 0 2 2 2 2 2 2 2]\n",
      " [0 1 1 0 2 2 2 2 2 2]\n",
      " [0 1 1 1 0 2 2 2 2 2]\n",
      " [0 1 1 1 1 0 2 2 2 2]\n",
      " [0 1 1 1 1 1 0 2 2 2]\n",
      " [0 1 1 1 1 1 1 0 2 2]\n",
      " [0 1 1 1 1 1 1 1 0 2]\n",
      " [0 1 1 1 1 1 1 1 1 0]],\n",
      "    p=[[1.]\n",
      " [1.]\n",
      " [1.]\n",
      " [1.]\n",
      " [1.]\n",
      " [1.]\n",
      " [1.]\n",
      " [1.]\n",
      " [1.]\n",
      " [1.]],\n",
      ")\n"
     ]
    }
   ],
   "source": [
    "path_names = []\n",
    "for idx, (path, edge_names, weight) in enumerate(valid_paths):\n",
    "    name = od_pair[0] + '_' + od_pair[1] + '_' + str(idx)\n",
    "    path_names.append(name)\n",
    "\n",
    "    varis[name] = variable.Variable(name=name, values = [np.inf, weight])\n",
    "\n",
    "    n_child = len(path)\n",
    "\n",
    "    # Event matrix of series system\n",
    "    # Initialize an array of shape (n+1, n+1) filled with 1\n",
    "    Cpath = np.ones((n_child + 1, n_child+1), dtype=int)\n",
    "    # Fill the diagonal below the main diagonal with 0\n",
    "    for i in range(1, n_child + 1):\n",
    "        Cpath[i, 0] = 0\n",
    "        Cpath[i, i] = 0  \n",
    "    # Fill the lower triangular part (excluding the diagonal) with 2\n",
    "    for i in range(1, n_child + 1):\n",
    "        Cpath[i, i+1:] = 2\n",
    "    ppath = np.array([1.0]*(n_child+1))\n",
    "\n",
    "    cpms[name] = cpm.Cpm(variables = [varis[name]] + [varis[n] for n in path], no_child=1, C=Cpath, p=ppath)\n",
    "\n",
    "print(cpms[name])\n"
   ]
  },
  {
   "cell_type": "markdown",
   "metadata": {},
   "source": [
    "System event modelling (1/2): system event as a series system of the valid paths"
   ]
  },
  {
   "cell_type": "code",
   "execution_count": 9,
   "metadata": {},
   "outputs": [
    {
     "name": "stdout",
     "output_type": "stream",
     "text": [
      "Cpm(\n",
      "    variables=['Wooroloo_Merredin', 'Wooroloo_Merredin_0', 'Wooroloo_Merredin_1', 'Wooroloo_Merredin_2', 'Wooroloo_Merredin_3'],\n",
      "    no_child=1,\n",
      "    C=[[4 1 2 2 2]\n",
      " [3 0 1 2 2]\n",
      " [2 0 0 1 2]\n",
      " [1 0 0 0 1]\n",
      " [0 0 0 0 0]],\n",
      "    p=[[1.]\n",
      " [1.]\n",
      " [1.]\n",
      " [1.]\n",
      " [1.]],\n",
      ")\n"
     ]
    }
   ],
   "source": [
    "od_name = od_pair[0] + '_' + od_pair[1]\n",
    "vals = [np.inf]\n",
    "for p in path_names[::-1]:\n",
    "    vals.append(varis[p].values[1])\n",
    "\n",
    "n_path = len(path_names)\n",
    "Csys = np.zeros((n_path+1, n_path+1), dtype=int)\n",
    "for i in range(n_path):\n",
    "    Csys[i, 0] = n_path - i\n",
    "    Csys[i, i+1] = 1\n",
    "    Csys[i, i+2:] = 2\n",
    "psys = np.array([1.0]*(n_path+1))\n",
    "\n",
    "varis[od_name] = variable.Variable(name=od_name, values = vals)\n",
    "cpms[od_name] = cpm.Cpm(variables = [varis[od_name]] + [varis[p] for p in path_names], no_child=1, C=Csys, p=psys)\n",
    "\n",
    "print(cpms[od_name])"
   ]
  },
  {
   "cell_type": "markdown",
   "metadata": {},
   "source": [
    "Save the results"
   ]
  },
  {
   "cell_type": "code",
   "execution_count": 10,
   "metadata": {},
   "outputs": [],
   "source": [
    "fcpms = cfg.output_path.joinpath('cpms.pk')\n",
    "with open(fcpms, 'wb') as f:\n",
    "    pickle.dump(cpms, f)\n",
    "\n",
    "fvaris = cfg.output_path.joinpath('varis.pk')\n",
    "with open(fvaris, 'wb') as f:\n",
    "    pickle.dump(varis, f)"
   ]
  },
  {
   "cell_type": "markdown",
   "metadata": {},
   "source": [
    "# Inference"
   ]
  },
  {
   "cell_type": "markdown",
   "metadata": {},
   "source": [
    "Load data"
   ]
  },
  {
   "cell_type": "code",
   "execution_count": 11,
   "metadata": {},
   "outputs": [
    {
     "name": "stdout",
     "output_type": "stream",
     "text": [
      "scenario to be added later\n"
     ]
    }
   ],
   "source": [
    "cpms = pickle.load(open(fcpms, 'rb'))\n",
    "varis = pickle.load(open(fvaris, 'rb'))\n",
    "cfg = config.Config(HOME.joinpath('./config.json'))\n"
   ]
  },
  {
   "cell_type": "markdown",
   "metadata": {},
   "source": [
    "## System event"
   ]
  },
  {
   "cell_type": "code",
   "execution_count": 12,
   "metadata": {},
   "outputs": [],
   "source": [
    "od_pair = cfg.infra['ODs']['od1']\n",
    "\n",
    "VE_ord = list(probs.keys()) + path_names\n",
    "vars_inf = operation.get_inf_vars( cpms, od_name, VE_ord )\n"
   ]
  },
  {
   "cell_type": "code",
   "execution_count": 13,
   "metadata": {},
   "outputs": [
    {
     "name": "stdout",
     "output_type": "stream",
     "text": [
      "Time elapsed:  85.02551937103271\n",
      "Cpm(\n",
      "    variables=['Wooroloo_Merredin'],\n",
      "    no_child=1,\n",
      "    C=[[0]\n",
      " [4]\n",
      " [3]\n",
      " [2]\n",
      " [1]],\n",
      "    p=[[0.24837241]\n",
      " [0.56525   ]\n",
      " [0.13693181]\n",
      " [0.016832  ]\n",
      " [0.03261378]],\n",
      ")\n"
     ]
    }
   ],
   "source": [
    "od_name = od_pair[0] + '_' + od_pair[1]\n",
    "\n",
    "start = time.time()\n",
    "# CPM of the od_pair system event\n",
    "Mod = operation.variable_elim([cpms[k] for k in vars_inf], [v for v in vars_inf if v!=od_name]) \n",
    "end = time.time()\n",
    "\n",
    "print('Time elapsed: ', end - start)\n",
    "print(Mod)\n"
   ]
  },
  {
   "cell_type": "markdown",
   "metadata": {},
   "source": [
    "Visualisation"
   ]
  },
  {
   "cell_type": "code",
   "execution_count": 14,
   "metadata": {},
   "outputs": [
    {
     "data": {
      "image/png": "[encoded data removed]",
      "text/plain": [
       "<Figure size 640x480 with 1 Axes>"
      ]
     },
     "metadata": {},
     "output_type": "display_data"
    }
   ],
   "source": [
    "Mod.sort()\n",
    "\n",
    "plt.figure()\n",
    "p_flat = Mod.p.flatten()\n",
    "plt.bar(range(len(p_flat)), p_flat[::-1], tick_label=varis[od_name].values[::-1])\n",
    "\n",
    "plt.xlabel(\"Travel time\")\n",
    "plt.ylabel(\"Probability\")\n",
    "\n",
    "plt.show()"
   ]
  },
  {
   "cell_type": "markdown",
   "metadata": {},
   "source": [
    "## Routes"
   ]
  },
  {
   "cell_type": "code",
   "execution_count": 15,
   "metadata": {},
   "outputs": [
    {
     "name": "stdout",
     "output_type": "stream",
     "text": [
      "['Wooroloo_Merredin_0', 'Wooroloo_Merredin_1', 'Wooroloo_Merredin_2', 'Wooroloo_Merredin_3']\n"
     ]
    }
   ],
   "source": [
    "paths_name = [v.name for v in cpms[od_name].variables[1:]]\n",
    "print(paths_name)"
   ]
  },
  {
   "cell_type": "code",
   "execution_count": 16,
   "metadata": {},
   "outputs": [
    {
     "name": "stdout",
     "output_type": "stream",
     "text": [
      "[0.5652499999999999, 0.4564393749999999, 0.12905501075266862, 0.29762414721484376]\n"
     ]
    }
   ],
   "source": [
    "paths_rel = []\n",
    "for path_i in paths_name:\n",
    "    VE_ord = list(probs.keys()) + path_names\n",
    "    vars_inf = operation.get_inf_vars( cpms, path_i, VE_ord )\n",
    "\n",
    "    Mpath = operation.variable_elim([cpms[k] for k in vars_inf], [v for v in vars_inf if v!=path_i]) \n",
    "    paths_rel.append( Mpath.p[1][0] )\n",
    "\n",
    "print(paths_rel)"
   ]
  },
  {
   "cell_type": "markdown",
   "metadata": {},
   "source": [
    "Visualisation"
   ]
  },
  {
   "cell_type": "code",
   "execution_count": 17,
   "metadata": {},
   "outputs": [
    {
     "data": {
      "image/png": "[encoded data removed]",
      "text/plain": [
       "<Figure size 640x480 with 1 Axes>"
      ]
     },
     "metadata": {},
     "output_type": "display_data"
    }
   ],
   "source": [
    "plt.figure()\n",
    "p_flat = Mod.p.flatten()\n",
    "plt.bar(range(len(paths_rel)), paths_rel, tick_label=range(len(paths_rel)))\n",
    "\n",
    "plt.xlabel(f\"Route: {od_name}\")\n",
    "plt.ylabel(\"Reliability\")\n",
    "\n",
    "plt.show()"
   ]
  },
  {
   "cell_type": "code",
   "execution_count": null,
   "metadata": {},
   "outputs": [],
   "source": []
  }
 ],
 "metadata": {
  "kernelspec": {
   "display_name": "bns",
   "language": "python",
   "name": "python3"
  },
  "language_info": {
   "codemirror_mode": {
    "name": "ipython",
    "version": 3
   },
   "file_extension": ".py",
   "mimetype": "text/x-python",
   "name": "python",
   "nbconvert_exporter": "python",
   "pygments_lexer": "ipython3",
   "version": "3.10.12"
  }
 },
 "nbformat": 4,
 "nbformat_minor": 2
}
