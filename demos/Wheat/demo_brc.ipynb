{
 "cells": [
  {
   "cell_type": "code",
   "execution_count": null,
   "metadata": {},
   "outputs": [],
   "source": [
    "from pathlib import Path\n",
    "import pandas as pd\n",
    "import json\n",
    "import networkx as nx\n",
    "import matplotlib.pyplot as plt\n",
    "import pdb\n",
    "import pickle\n",
    "import numpy as np\n",
    "from typing_extensions import Annotated\n",
    "import time\n",
    "import batch\n",
    "\n",
    "from mbnpy import model, config, trans, variable, brc, branch, cpm, operation\n",
    "\n",
    "HOME = Path().resolve()\n",
    "\n",
    "%matplotlib inline"
   ]
  },
  {
   "cell_type": "markdown",
   "metadata": {},
   "source": [
    "# Load data"
   ]
  },
  {
   "cell_type": "markdown",
   "metadata": {},
   "source": [
    "## Structures"
   ]
  },
  {
   "cell_type": "code",
   "execution_count": 2,
   "metadata": {},
   "outputs": [
    {
     "name": "stdout",
     "output_type": "stream",
     "text": [
      "scenario to be added later\n",
      "dict_keys(['file_model', 'infra', 'key', 'max_branches', 'output_path', 'data'])\n"
     ]
    }
   ],
   "source": [
    "cfg = config.Config(HOME.joinpath('./config.json'))\n",
    "print(vars(cfg).keys())"
   ]
  },
  {
   "cell_type": "code",
   "execution_count": 3,
   "metadata": {},
   "outputs": [],
   "source": [
    "key = 'York-Merredin'\n",
    "od_pair = cfg.infra['ODs'][key]"
   ]
  },
  {
   "cell_type": "markdown",
   "metadata": {},
   "source": [
    "## Damage"
   ]
  },
  {
   "cell_type": "code",
   "execution_count": 4,
   "metadata": {},
   "outputs": [],
   "source": [
    "file_dmg = \"./avg_gmf_69_dmg.csv\"\n",
    "probs = pd.read_csv(file_dmg, index_col=0)\n",
    "probs.index = probs.index.astype('str')\n",
    "probs['failure'] = probs['Extensive'] + probs['Complete']\n",
    "probs = probs.to_dict('index')\n",
    "\n"
   ]
  },
  {
   "cell_type": "markdown",
   "metadata": {},
   "source": [
    "Check bridges in the database"
   ]
  },
  {
   "cell_type": "code",
   "execution_count": 5,
   "metadata": {},
   "outputs": [
    {
     "name": "stdout",
     "output_type": "stream",
     "text": [
      "dict_keys(['0638', '4815', '0277', '0597', 'Kellerberrin', '0286', '4166A', 'York', '0752', 'Northam', '4154', '4156', '0283', '0639', 'Meckering', 'Cunderdin', '1065', '0714', '0715', '0717', '5093', '0612', '0613', '0576', '0290', '0291', '1047', '1006', '1007', '1050', '0627', 'Merredin', '1149', '0305', '0729', '0730', '0596', '0641', '4184', '0289', '0287', '4556A', '4151', '0288', '0361', '0753', '0754', '0761', '0762', '0763A', '0765', '0285', '0284', '0282', '0281', '0280', '0279', '0278', '0694', '0299', '0300', '0301', '0302', '0303', '0304', '5281', '5099A', '6223A', '5100A', '9186', 'Wooroloo', '4527', '0369', '0692', '0693', '0631A', '0632A', '0633A', '0634', '0637', '0574', '0579', '0580', '0897', '0898', '0589', '0592', '0598', '0602', '0606', '9306', '1046', '1469', '1468', '1504', '1467', '1466', '1465', '1464', '1463', '9187', '1150', '1153', '1154', '0617'])\n",
      "105\n",
      "281\n",
      "{'Slight': 0.4406303260001941, 'Moderate': 0.2345360276437697, 'Extensive': 0.1265510426337899, 'Complete': 0.0301062058631152, 'failure': 0.1566572484969051}\n"
     ]
    }
   ],
   "source": [
    "print(cfg.infra['nodes'].keys())\n",
    "print(len(cfg.infra['nodes'].keys()))\n",
    "print(len(probs))\n",
    "\n",
    "print(probs['0638'])"
   ]
  },
  {
   "cell_type": "markdown",
   "metadata": {},
   "source": [
    "# Reliability analysis\n",
    "\n",
    "## Bridges"
   ]
  },
  {
   "cell_type": "code",
   "execution_count": 6,
   "metadata": {},
   "outputs": [
    {
     "name": "stdout",
     "output_type": "stream",
     "text": [
      "Node Kellerberrin not in probs.\n",
      "Node York not in probs.\n",
      "Node Northam not in probs.\n",
      "Node Meckering not in probs.\n",
      "Node Cunderdin not in probs.\n",
      "Node Merredin not in probs.\n",
      "Node Wooroloo not in probs.\n",
      "98\n"
     ]
    }
   ],
   "source": [
    "cpms, varis = {}, {}\n",
    "comp_names = []\n",
    "for node in cfg.infra['nodes'].keys():\n",
    "    if node in probs.keys():\n",
    "        varis[node] = variable.Variable(name=node, values=['f','s'])\n",
    "\n",
    "        pf = probs[node]['failure']\n",
    "        cpms[node] = cpm.Cpm(variables=[varis[node]], no_child=1, C=np.array([[0], [1]]), p=[pf, 1.0-pf])\n",
    "\n",
    "        comp_names.append(node)\n",
    "    \n",
    "    else:\n",
    "        print(f\"Node {node} not in probs.\")\n",
    "\n",
    "print(len(cpms))   "
   ]
  },
  {
   "cell_type": "markdown",
   "metadata": {},
   "source": [
    "## System function"
   ]
  },
  {
   "cell_type": "code",
   "execution_count": 7,
   "metadata": {},
   "outputs": [
    {
     "name": "stdout",
     "output_type": "stream",
     "text": [
      "6547\n"
     ]
    }
   ],
   "source": [
    "G = cfg.infra['G']\n",
    "d_time_itc = nx.shortest_path_length(G, source=od_pair[0], target=od_pair[1], weight='weight')\n",
    "print(d_time_itc)"
   ]
  },
  {
   "cell_type": "code",
   "execution_count": 8,
   "metadata": {},
   "outputs": [
    {
     "name": "stdout",
     "output_type": "stream",
     "text": [
      "[('0638', '4815'), ('0638', '0277'), ('0638', '0612'), ('0638', '0361'), ('0638', 'Northam'), ('4815', 'Northam'), ('4815', '4154'), ('0277', '0613'), ('0277', '0612'), ('0277', '0278'), ('0277', '0752'), ('0277', 'Northam'), ('0597', 'Kellerberrin'), ('0597', '0596'), ('0597', '0598'), ('Kellerberrin', 'Cunderdin'), ('Kellerberrin', '1006'), ('Kellerberrin', '0596'), ('Kellerberrin', '0641'), ('Kellerberrin', '4151'), ('0286', '4166A'), ('0286', '0287'), ('0286', '0285'), ('4166A', 'York'), ('York', '0291'), ('York', '4184'), ('York', '4156'), ('York', '0576'), ('York', '0290'), ('0752', 'Northam'), ('0752', '0612'), ('0752', '0753'), ('Northam', '0613'), ('Northam', '0612'), ('4154', '4156'), ('4156', '0283'), ('0283', '0284'), ('0283', '0282'), ('0639', 'Meckering'), ('0639', '0765'), ('0639', 'Merredin'), ('Meckering', '0284'), ('Meckering', 'Cunderdin'), ('Meckering', '0617'), ('0284', '0285'), ('Cunderdin', '1065'), ('1065', '0714'), ('0714', '0715'), ('0714', '0730'), ('0715', '0717'), ('0717', '5093'), ('0717', '0596'), ('5093', '0305'), ('5093', '5281'), ('0612', '0613'), ('0612', '1047'), ('0612', '0361'), ('0612', '9186'), ('0613', '1149'), ('0576', '0290'), ('0576', '0291'), ('0576', '0574'), ('0290', '0291'), ('0290', '0289'), ('0290', '0579'), ('0291', '0299'), ('1047', '1046'), ('1047', '9186'), ('1006', '1007'), ('1007', '1050'), ('1050', '0627'), ('0627', 'Merredin'), ('Merredin', '0641'), ('Merredin', '5100A'), ('Merredin', '0602'), ('1149', '9187'), ('1149', '1150'), ('0305', '0729'), ('0305', '0304'), ('0729', '0730'), ('0596', '0592'), ('4184', '0289'), ('0289', '0288'), ('0287', '4556A'), ('0287', '0288'), ('4556A', '4151'), ('4556A', '0288'), ('0361', '0694'), ('0753', '0754'), ('0754', '0761'), ('0761', '0762'), ('0762', '0763A'), ('0763A', '0765'), ('0765', '0637'), ('0282', '0281'), ('0281', '0280'), ('0280', '0279'), ('0279', '0278'), ('0694', '0693'), ('0694', '0631A'), ('0299', '0300'), ('0300', '0301'), ('0301', '0302'), ('0302', '0303'), ('0303', '0304'), ('5281', '5099A'), ('5099A', '6223A'), ('6223A', '5100A'), ('9186', '1469'), ('Wooroloo', '4527'), ('Wooroloo', '0574'), ('Wooroloo', '0606'), ('4527', '0369'), ('0369', '0692'), ('0692', '0693'), ('0631A', '0632A'), ('0632A', '0633A'), ('0633A', '0634'), ('0634', '0637'), ('0579', '0580'), ('0580', '0897'), ('0897', '0898'), ('0898', '0589'), ('0589', '0592'), ('0598', '0602'), ('0606', '9306'), ('9306', '1046'), ('1469', '1468'), ('1468', '1504'), ('1504', '1467'), ('1467', '1466'), ('1466', '1465'), ('1465', '1464'), ('1464', '1463'), ('1463', '9187'), ('1150', '1153'), ('1153', '1154'), ('1154', '0617')]\n",
      "469\n"
     ]
    }
   ],
   "source": [
    "print(G.edges)\n",
    "print(G['0638']['4815']['weight'])"
   ]
  },
  {
   "cell_type": "code",
   "execution_count": 9,
   "metadata": {},
   "outputs": [],
   "source": [
    "def sys_fun(comps_st, G, threshold, od_pair, d_time_itc):\n",
    "    G_tmp = G.copy()\n",
    "\n",
    "    for br, st in comps_st.items():\n",
    "        if st == 0:\n",
    "            for neigh in G.neighbors(br):\n",
    "                G_tmp[br][neigh]['weight'] = float('inf')\n",
    "\n",
    "    d_time = nx.shortest_path_length(G_tmp, source=od_pair[0], target=od_pair[1], weight='weight')\n",
    "\n",
    "    if d_time > threshold*d_time_itc:\n",
    "        sys_st = 'f'\n",
    "        min_comps_st = None\n",
    "    else:\n",
    "        sys_st = 's'  \n",
    "\n",
    "        path = nx.shortest_path(G_tmp, source=od_pair[0], target=od_pair[1], weight='weight')\n",
    "        min_comps_st = {node: 1 for node in path if node in comps_st.keys()}\n",
    "\n",
    "    return d_time, sys_st, min_comps_st\n",
    "    \n"
   ]
  },
  {
   "cell_type": "markdown",
   "metadata": {},
   "source": [
    "Test the system function."
   ]
  },
  {
   "cell_type": "code",
   "execution_count": 10,
   "metadata": {},
   "outputs": [
    {
     "name": "stdout",
     "output_type": "stream",
     "text": [
      "Taken time: 6547\n",
      "System state: s\n",
      "Min components state to ensure the system state: {'0290': 1, '0289': 1, '0288': 1, '4556A': 1, '4151': 1, '1006': 1, '1007': 1, '1050': 1, '0627': 1}\n"
     ]
    }
   ],
   "source": [
    "# Test 1\n",
    "comps_st = {x: 1 for x in comp_names}\n",
    "d_time, sys_st, min_comps_st = sys_fun(comps_st, G, cfg.data['THRESHOLD'], od_pair, d_time_itc)\n",
    "print(f\"Taken time: {d_time}\")\n",
    "print(f\"System state: {sys_st}\")\n",
    "print(f\"Min components state to ensure the system state: {min_comps_st}\")"
   ]
  },
  {
   "cell_type": "code",
   "execution_count": 11,
   "metadata": {},
   "outputs": [
    {
     "name": "stdout",
     "output_type": "stream",
     "text": [
      "Taken time: 6547\n",
      "System state: s\n",
      "Min components state to ensure the system state: {'0290': 1, '0289': 1, '0288': 1, '4556A': 1, '4151': 1, '1006': 1, '1007': 1, '1050': 1, '0627': 1}\n"
     ]
    }
   ],
   "source": [
    "comps_st['0606'] = 0\n",
    "d_time, sys_st, min_comps_st = sys_fun(comps_st, G, cfg.data['THRESHOLD'], od_pair, d_time_itc)\n",
    "print(f\"Taken time: {d_time}\")\n",
    "print(f\"System state: {sys_st}\")\n",
    "print(f\"Min components state to ensure the system state: {min_comps_st}\")"
   ]
  },
  {
   "cell_type": "code",
   "execution_count": 12,
   "metadata": {},
   "outputs": [
    {
     "name": "stdout",
     "output_type": "stream",
     "text": [
      "Taken time: 6547\n",
      "System state: s\n",
      "Min components state to ensure the system state: {'0290': 1, '0289': 1, '0288': 1, '4556A': 1, '4151': 1, '1006': 1, '1007': 1, '1050': 1, '0627': 1}\n"
     ]
    }
   ],
   "source": [
    "comps_st['0574'] = 0\n",
    "comps_st['4527'] = 0\n",
    "d_time, sys_st, min_comps_st = sys_fun(comps_st, G, cfg.data['THRESHOLD'], od_pair, d_time_itc)\n",
    "print(f\"Taken time: {d_time}\")\n",
    "print(f\"System state: {sys_st}\")\n",
    "print(f\"Min components state to ensure the system state: {min_comps_st}\")"
   ]
  },
  {
   "cell_type": "markdown",
   "metadata": {},
   "source": [
    "## Run BRC"
   ]
  },
  {
   "cell_type": "code",
   "execution_count": 13,
   "metadata": {},
   "outputs": [],
   "source": [
    "sf_brc = lambda comps_st: sys_fun(comps_st, G, cfg.data['THRESHOLD'], od_pair, d_time_itc)\n",
    "probs_brc = {x: {0: probs[x]['failure'], 1: 1.0-probs[x]['failure']} for x in probs.keys() if x in comp_names}"
   ]
  },
  {
   "cell_type": "code",
   "execution_count": 14,
   "metadata": {},
   "outputs": [
    {
     "data": {
      "text/plain": [
       "'brs, rules, sys_res, monitor = brc.run(probs_brc, sf_brc,\\n                                       pf_bnd_wr=0.05, max_rules=10, surv_first=True,\\n                                       active_decomp=10, display_freq=5)\\n\\nfpath_rule = f\"./rules_{od_pair[0]}_{od_pair[1]}.json\"\\nwith open(fpath_rule, \"w\") as f:\\n    json.dump(rules, f, indent=4)\\n\\nfpath_br = f\"./brs_{od_pair[0]}_{od_pair[1]}.parquet\"\\nbranch.save_brs_to_parquet(brs, fpath_br)\\n\\nfpath_mon = f\"./monitor_{od_pair[0]}_{od_pair[1]}.json\"\\nwith open(fpath_mon, \"w\") as f:\\n    json.dump(monitor, f, indent=4)\\n\\nfpath_res = f\"./sys_res_{od_pair[0]}_{od_pair[1]}.json\"\\nsys_res.to_json( fpath_res, orient=\\'records\\', lines=True )'"
      ]
     },
     "execution_count": 14,
     "metadata": {},
     "output_type": "execute_result"
    }
   ],
   "source": [
    "\"\"\"brs, rules, sys_res, monitor = brc.run(probs_brc, sf_brc,\n",
    "                                       pf_bnd_wr=0.05, max_rules=10, surv_first=True,\n",
    "                                       active_decomp=10, display_freq=5)\n",
    "\n",
    "fpath_rule = f\"./rules_{od_pair[0]}_{od_pair[1]}.json\"\n",
    "with open(fpath_rule, \"w\") as f:\n",
    "    json.dump(rules, f, indent=4)\n",
    "\n",
    "fpath_br = f\"./brs_{od_pair[0]}_{od_pair[1]}.parquet\"\n",
    "branch.save_brs_to_parquet(brs, fpath_br)\n",
    "\n",
    "fpath_mon = f\"./monitor_{od_pair[0]}_{od_pair[1]}.json\"\n",
    "with open(fpath_mon, \"w\") as f:\n",
    "    json.dump(monitor, f, indent=4)\n",
    "\n",
    "fpath_res = f\"./sys_res_{od_pair[0]}_{od_pair[1]}.json\"\n",
    "sys_res.to_json( fpath_res, orient='records', lines=True )\"\"\""
   ]
  },
  {
   "cell_type": "code",
   "execution_count": 15,
   "metadata": {},
   "outputs": [],
   "source": [
    "brs = branch.load_brs_from_parquet(f\"./brs_{od_pair[0]}_{od_pair[1]}.parquet\")\n",
    "rules = json.load(open(f\"./rules_{od_pair[0]}_{od_pair[1]}.json\"))"
   ]
  },
  {
   "cell_type": "markdown",
   "metadata": {},
   "source": [
    "## System's CPM"
   ]
  },
  {
   "cell_type": "code",
   "execution_count": 18,
   "metadata": {},
   "outputs": [],
   "source": [
    "varis['sys'] = variable.Variable(name='sys', values=['f','s','u'])\n",
    "\n",
    "Csys = branch.get_cmat(brs, {x: varis[x] for x in comp_names})\n",
    "psys = np.ones((Csys.shape[0],1))\n",
    "\n",
    "cpms['sys'] = cpm.Cpm(variables=[varis['sys']]+[varis[x] for x in comp_names], no_child=1, C=Csys, p=psys)\n",
    "\n",
    "with open(f'./varis_{od_pair[0]}_{od_pair[1]}.pickle', 'wb') as f:\n",
    "    pickle.dump(varis, f)\n",
    "with open(f'./cpms_{od_pair[0]}_{od_pair[1]}.pickle', 'wb') as f:\n",
    "    pickle.dump(cpms, f)\n"
   ]
  },
  {
   "cell_type": "markdown",
   "metadata": {},
   "source": [
    "## Making sense of BRC results\n",
    "\n",
    "Does the routes coincide with Google's recommended routes?"
   ]
  },
  {
   "cell_type": "code",
   "execution_count": 31,
   "metadata": {},
   "outputs": [
    {
     "name": "stdout",
     "output_type": "stream",
     "text": [
      "Survival rules in descending order of probabilities:\n",
      "Prob: 9.437e-01, {'4166A': 1, '0286': 1, '0287': 1, '4556A': 1, '4151': 1, '1006': 1, '1007': 1, '1050': 1, '0627': 1}\n",
      "Prob: 9.387e-01, {'4166A': 1, '0286': 1, '0285': 1, '0284': 1, '1006': 1, '1007': 1, '1050': 1, '0627': 1}\n",
      "Prob: 8.837e-01, {'4156': 1, '0283': 1, '0284': 1, '1006': 1, '1007': 1, '1050': 1, '0627': 1}\n",
      "Prob: 8.325e-01, {'4184': 1, '0289': 1, '0288': 1, '4556A': 1, '4151': 1, '1006': 1, '1007': 1, '1050': 1, '0627': 1}\n",
      "Prob: 8.256e-01, {'0290': 1, '0289': 1, '0288': 1, '4556A': 1, '4151': 1, '0641': 1}\n",
      "Prob: 8.256e-01, {'0290': 1, '0289': 1, '0288': 1, '4556A': 1, '4151': 1, '1006': 1, '1007': 1, '1050': 1, '0627': 1}\n",
      "Prob: 7.975e-01, {'0290': 1, '0579': 1, '0580': 1, '0897': 1, '0898': 1, '0589': 1, '0592': 1, '0596': 1, '1006': 1, '1007': 1, '1050': 1, '0627': 1}\n",
      "Prob: 7.609e-01, {'4156': 1, '0283': 1, '0282': 1, '0281': 1, '0280': 1, '0279': 1, '0278': 1, '0277': 1, '0613': 1, '1149': 1, '1150': 1, '1153': 1, '1154': 1, '0617': 1, '1006': 1, '1007': 1, '1050': 1, '0627': 1}\n",
      "Prob: 6.372e-01, {'4156': 1, '0283': 1, '0282': 1, '0281': 1, '0280': 1, '0279': 1, '0278': 1, '0277': 1, '0612': 1, '9186': 1, '1469': 1, '1468': 1, '1504': 1, '1467': 1, '1466': 1, '1465': 1, '1464': 1, '1463': 1, '9187': 1, '1149': 1, '1150': 1, '1153': 1, '1154': 1, '0617': 1, '1006': 1, '1007': 1, '1050': 1, '0627': 1}\n",
      "Prob: 2.137e-01, {'4156': 1, '4154': 1, '4815': 1, '0638': 1, '0612': 1, '0613': 1, '1149': 1, '1150': 1, '1153': 1, '1154': 1, '0617': 1, '1006': 1, '1007': 1, '1050': 1, '0627': 1}\n"
     ]
    }
   ],
   "source": [
    "rule_s_probs = brc.eval_rules_prob(rules['s'], 's', probs_brc)\n",
    "rule_s_sort_idx = np.argsort(rule_s_probs)[::-1] # sort by descending order of probabilities\n",
    "\n",
    "print(\"Survival rules in descending order of probabilities:\")\n",
    "for i in rule_s_sort_idx:\n",
    "    print(f\"Prob: {rule_s_probs[i]:.3e}, {rules['s'][i]}\")"
   ]
  },
  {
   "cell_type": "markdown",
   "metadata": {},
   "source": [
    "# Simulation of real-time update"
   ]
  },
  {
   "cell_type": "markdown",
   "metadata": {},
   "source": [
    "## Load data"
   ]
  },
  {
   "cell_type": "code",
   "execution_count": 46,
   "metadata": {},
   "outputs": [],
   "source": [
    "# damage data from ShakeCast\n",
    "file_dmg = \"./avg_gmf_69_dmg.csv\"\n",
    "probs_new = pd.read_csv(file_dmg, index_col=0)\n",
    "probs_new.index = probs_new.index.astype('str')\n",
    "probs_new['failure'] = probs_new['Extensive'] + probs_new['Complete']\n",
    "probs_new = probs_new.to_dict('index')"
   ]
  },
  {
   "cell_type": "code",
   "execution_count": 52,
   "metadata": {},
   "outputs": [],
   "source": [
    "# Previous analysis results\n",
    "cpms = pickle.load(open(f'./cpms_{od_pair[0]}_{od_pair[1]}.pickle', 'rb'))\n",
    "varis = pickle.load(open(f'./varis_{od_pair[0]}_{od_pair[1]}.pickle', 'rb'))\n",
    "\n",
    "rules = json.load(open(f\"./rules_{od_pair[0]}_{od_pair[1]}.json\"))"
   ]
  },
  {
   "cell_type": "markdown",
   "metadata": {},
   "source": [
    "## Update Probability distributions by ShakeCast data"
   ]
  },
  {
   "cell_type": "code",
   "execution_count": 57,
   "metadata": {},
   "outputs": [],
   "source": [
    "comp_names = [v.name for v in cpms['sys'].variables[1:]]\n",
    "\n",
    "for x in comp_names:\n",
    "    cpms[x].p = np.array([probs_new[x]['failure'], 1.0-probs_new[x]['failure']]).T"
   ]
  },
  {
   "cell_type": "markdown",
   "metadata": {},
   "source": [
    "## Results\n",
    "\n",
    "### System Survival Probability"
   ]
  },
  {
   "cell_type": "code",
   "execution_count": 58,
   "metadata": {},
   "outputs": [
    {
     "name": "stdout",
     "output_type": "stream",
     "text": [
      "Elapsed time for system probability calculation: 1.485 s\n"
     ]
    }
   ],
   "source": [
    "st = time.time()\n",
    "Msys = operation.prod_Msys_and_Mcomps(cpms['sys'], [cpms[x] for x in comp_names])\n",
    "print(f\"Elapsed time for system probability calculation: {time.time()-st:.3f} s\")"
   ]
  },
  {
   "cell_type": "code",
   "execution_count": 59,
   "metadata": {},
   "outputs": [
    {
     "name": "stdout",
     "output_type": "stream",
     "text": [
      "System failure probability bounds: 0.000e+00, 2.838e-05\n"
     ]
    }
   ],
   "source": [
    "pf_sys = sum(p for i, p in enumerate(Msys.p) if Msys.C[i,0]==0)\n",
    "if isinstance(pf_sys, int):\n",
    "    pf_sys = 0.0\n",
    "else:\n",
    "    pf_sys = pf_sys[0]\n",
    "\n",
    "ps_sys = sum(p for i, p in enumerate(Msys.p) if Msys.C[i,0]==1)\n",
    "if isinstance(ps_sys, int):\n",
    "    ps_sys = 0.0\n",
    "else:\n",
    "    ps_sys = ps_sys[0]\n",
    "\n",
    "print(f\"System failure probability bounds: {pf_sys:.3e}, {1.0-ps_sys:.3e}\")"
   ]
  },
  {
   "cell_type": "markdown",
   "metadata": {},
   "source": [
    "## Paths survival probability"
   ]
  },
  {
   "cell_type": "code",
   "execution_count": 60,
   "metadata": {},
   "outputs": [
    {
     "name": "stdout",
     "output_type": "stream",
     "text": [
      "Survival rules in descending order of probabilities:\n",
      "Prob: 9.437e-01, {'4166A': 1, '0286': 1, '0287': 1, '4556A': 1, '4151': 1, '1006': 1, '1007': 1, '1050': 1, '0627': 1}\n",
      "Prob: 9.387e-01, {'4166A': 1, '0286': 1, '0285': 1, '0284': 1, '1006': 1, '1007': 1, '1050': 1, '0627': 1}\n",
      "Prob: 8.837e-01, {'4156': 1, '0283': 1, '0284': 1, '1006': 1, '1007': 1, '1050': 1, '0627': 1}\n",
      "Prob: 8.325e-01, {'4184': 1, '0289': 1, '0288': 1, '4556A': 1, '4151': 1, '1006': 1, '1007': 1, '1050': 1, '0627': 1}\n",
      "Prob: 8.256e-01, {'0290': 1, '0289': 1, '0288': 1, '4556A': 1, '4151': 1, '0641': 1}\n",
      "Prob: 8.256e-01, {'0290': 1, '0289': 1, '0288': 1, '4556A': 1, '4151': 1, '1006': 1, '1007': 1, '1050': 1, '0627': 1}\n",
      "Prob: 7.975e-01, {'0290': 1, '0579': 1, '0580': 1, '0897': 1, '0898': 1, '0589': 1, '0592': 1, '0596': 1, '1006': 1, '1007': 1, '1050': 1, '0627': 1}\n",
      "Prob: 7.609e-01, {'4156': 1, '0283': 1, '0282': 1, '0281': 1, '0280': 1, '0279': 1, '0278': 1, '0277': 1, '0613': 1, '1149': 1, '1150': 1, '1153': 1, '1154': 1, '0617': 1, '1006': 1, '1007': 1, '1050': 1, '0627': 1}\n",
      "Prob: 6.372e-01, {'4156': 1, '0283': 1, '0282': 1, '0281': 1, '0280': 1, '0279': 1, '0278': 1, '0277': 1, '0612': 1, '9186': 1, '1469': 1, '1468': 1, '1504': 1, '1467': 1, '1466': 1, '1465': 1, '1464': 1, '1463': 1, '9187': 1, '1149': 1, '1150': 1, '1153': 1, '1154': 1, '0617': 1, '1006': 1, '1007': 1, '1050': 1, '0627': 1}\n",
      "Prob: 2.137e-01, {'4156': 1, '4154': 1, '4815': 1, '0638': 1, '0612': 1, '0613': 1, '1149': 1, '1150': 1, '1153': 1, '1154': 1, '0617': 1, '1006': 1, '1007': 1, '1050': 1, '0627': 1}\n"
     ]
    }
   ],
   "source": [
    "probs_new_brc = {x: {0: probs_new[x]['failure'], 1: 1.0-probs_new[x]['failure']} for x in probs_new.keys() if x in comp_names}\n",
    "\n",
    "rule_s_probs = brc.eval_rules_prob(rules['s'], 's', probs_new_brc)\n",
    "rule_s_sort_idx = np.argsort(rule_s_probs)[::-1] # sort by descending order of probabilities\n",
    "\n",
    "print(\"Survival rules in descending order of probabilities:\")\n",
    "for i in rule_s_sort_idx:\n",
    "    print(f\"Prob: {rule_s_probs[i]:.3e}, {rules['s'][i]}\")"
   ]
  },
  {
   "cell_type": "markdown",
   "metadata": {},
   "source": [
    "## Component importance measure\n",
    "\n",
    "$BM_n=P(S=1 | X_n=1) - P(S=1 | X_n=0)$ <br>\n",
    "$CI_n\\propto BM_n \\cdot P(X_n=0)$"
   ]
  },
  {
   "cell_type": "code",
   "execution_count": 70,
   "metadata": {},
   "outputs": [],
   "source": [
    "# Bounds are obtained for incomplete BnB\n",
    "BMs, CIs = {}, {}\n",
    "for idx, comp in enumerate(comp_names):\n",
    "\n",
    "    P_x0 = cpms[comp].p[0]\n",
    "    P_x1 = cpms[comp].p[1]\n",
    "\n",
    "    P_s1_x1 = sum(p for i, p in enumerate(Msys.p) if Msys.C[i,0]==1 and Msys.C[i,idx+1]==1)\n",
    "    P_s0_x1 = sum(p for i, p in enumerate(Msys.p) if Msys.C[i,0]==1 and Msys.C[i,idx+1]==0)\n",
    "    P_s1_x0 = sum(p for i, p in enumerate(Msys.p) if Msys.C[i,0]==0 and Msys.C[i,idx+1]==1)\n",
    "    P_s0_x0 = sum(p for i, p in enumerate(Msys.p) if Msys.C[i,0]==0 and Msys.C[i,idx+1]==0)\n",
    "\n",
    "    # BM\n",
    "    P_s1_cond_x1_bnd = (P_s1_x1/P_x1, (1.0-P_s0_x1-P_s1_x0-P_s0_x0)/P_x1)\n",
    "    P_s1_cond_x0_bnd = (P_s1_x0/P_x0, (1.0-P_s0_x1-P_s1_x0-P_s0_x0)/P_x0)\n",
    "\n",
    "    BM_bounds = (P_s1_cond_x1_bnd[0]-P_s1_cond_x0_bnd[1], P_s1_cond_x1_bnd[1]-P_s1_cond_x0_bnd[0])\n",
    "    BMs[comp] = (BM_bounds[0][0], BM_bounds[1][0])\n",
    "\n",
    "    # CI\n",
    "    CI_bounds = (BM_bounds[0]*P_x0, BM_bounds[1]*P_x0)\n",
    "    CIs[comp] = (CI_bounds[0][0], CI_bounds[1][0])\n"
   ]
  },
  {
   "cell_type": "code",
   "execution_count": 90,
   "metadata": {},
   "outputs": [
    {
     "name": "stdout",
     "output_type": "stream",
     "text": [
      "{'0638': (-0.9999994087973968, 0.1857575086970202), '4815': (-0.9999969954280967, 0.9440448814737499), '0277': (-0.9999859654897005, 0.10424415367382142), '0597': (-1.0, 1.8029494440899234e-05), '0286': (-0.9973794282415089, 0.001311899002493405), '4166A': (-0.9999953430327504, 2.33134109425173e-06), '0752': (-1.0, 0.14270632027903418), '4154': (-0.999998333458525, 0.5236319848412865), '4156': (-0.9998309658750767, 0.06329707817134095), '0283': (-0.9999955428861651, 0.0016489920790621938), '0639': (-1.0, 7.319322631429121e-07), '1065': (-0.9999999999999999, 1.4246294539137609e-05), '0714': (-1.0, 3.6776124716679e-05), '0715': (-1.0, 9.199172510567064e-05), '0717': (-0.9999999999999999, 3.5262803280601246e-08), '5093': (-1.0, 3.871974846211027e-11), '0612': (-0.9999986736848036, 0.13937269310293685), '0613': (-0.9999852329154773, 0.0796710034882149), '0576': (-1.0, 0.045869477863059796), '0290': (-0.9997631448046751, 0.20399663105137278), '0291': (-1.0, 0.0728958262960585), '1047': (-1.0, 0.05842247485659029), '1006': (-0.9999894613401145, 5.772821545079811e-06), '1007': (-0.999989461395141, 5.772821545238641e-06), '1050': (-0.9999906932930618, 5.0980406527720475e-06), '0627': (-0.9999951474954467, 2.6581233246845927e-06), '1149': (-0.9999998043452453, 0.0017434069108310745), '0305': (-0.9999999999999999, 0.028588403174415432), '0729': (-1.0, 0.00044502227559818863), '0730': (-1.0, 0.0005027265734132422), '0596': (-0.9999999678090731, 8.812649068149345e-05), '0641': (-0.99999999999713, 1.801158067557369e-07), '4184': (-0.9989975839663557, 0.1938487349525114), '0289': (-0.9999969929669384, 0.00048822858178176475), '0287': (-0.8984218976959587, 0.05109197471544569), '4556A': (-0.9964100691785241, 0.001796840535107525), '4151': (-0.9952891731486598, 0.002362125461276006), '0288': (-0.9999917760831849, 0.0013370004986039696), '0361': (-1.0, 0.07546751365023746), '0753': (-1.0, 0.05038707184287621), '0754': (-1.0, 0.0004540932560599703), '0761': (-1.0, 0.0030425252924003786), '0762': (-0.9999999999999999, 0.0008404668291736399), '0763A': (-1.0, 0.003984804841820422), '0765': (-1.0, 2.8756217860317904e-11), '0285': (-0.9998652671258726, 0.0013058668748914335), '0284': (-0.993418672012934, 0.062240570319529086), '0282': (-0.99999961753149, 0.0027175418892118972), '0281': (-0.9999998369917779, 0.0011587655686914275), '0280': (-0.9999997935337983, 0.0014685719237009578), '0279': (-0.9999992779501297, 0.005146616109263932), '0278': (-0.9999992457159397, 0.005388122167329017), '0694': (-1.0, 0.0004011687157129138), '0299': (-1.0, 0.0010951794190581937), '0300': (-1.0, 0.04126698277279021), '0301': (-1.0, 0.0007718999931302172), '0302': (-1.0, 0.00040954244405106625), '0303': (-1.0, 0.018979370080012287), '0304': (-1.0, 0.00025253631823907765), '5281': (-1.0, 1.4557923990806925e-09), '5099A': (-1.0, 2.210858310022905e-06), '6223A': (-1.0, 7.819208723229463e-06), '5100A': (-1.0, 5.765882860458742e-06), '9186': (-0.9999999775580094, 0.0035432880741308685), '4527': (-0.9999999999999999, 0.026538959063823534), '0369': (-1.0, 0.0014831007655684153), '0692': (-1.0, 0.0026850957369813277), '0693': (-1.0, 0.0003222956835301955), '0631A': (-1.0, 0.00015602602805008474), '0632A': (-1.0, 0.013484212516186866), '0633A': (-1.0, 0.006015456189893399), '0634': (-1.0, 0.0021946458579227795), '0637': (-1.0, 0.0016025094900716029), '0574': (-1.0, 0.9094821845669872), '0579': (-0.999998900559566, 0.002908721708060046), '0580': (-0.9999991511334031, 0.0022503901336293763), '0897': (-0.9999925614204892, 0.02007943740336109), '0898': (-0.9999952983954546, 0.012839095054177437), '0589': (-0.9999996393659601, 0.0009856978306508554), '0592': (-0.9999993859829149, 0.001680810085404429), '0598': (-0.9999999999999999, 2.2010939939758866e-08), '0602': (-1.0, 4.3307736651692547e-08), '0606': (-1.0, 0.41259239683088933), '9306': (-1.0, 0.06716787704035417), '1046': (-1.0, 0.05419528418978139), '1469': (-0.9999999847368799, 0.002409841084868977), '1468': (-0.9999999715246465, 0.0044958748183114745), '1504': (-0.9999999862075015, 0.0021776497455427), '1467': (-0.999999981906873, 0.0028566610571653266), '1466': (-0.9999997111438566, 0.045606494762088036), '1465': (-0.999999995432362, 0.0007211685280545544), '1464': (-0.999999601489269, 0.06291947730398603), '1463': (-0.9999999960562742, 0.0006226611747083974), '9187': (-0.9999999921302474, 0.001242527951576419), '1150': (-0.9999999840936947, 0.0001417352210825207), '1153': (-0.9999988560974307, 0.010193086036907145), '1154': (-0.9999998446222711, 0.001384543272932886), '0617': (-0.9999994220090063, 0.005150423538101248)}\n"
     ]
    }
   ],
   "source": [
    "print(CIs)"
   ]
  },
  {
   "cell_type": "code",
   "execution_count": 95,
   "metadata": {},
   "outputs": [
    {
     "name": "stdout",
     "output_type": "stream",
     "text": [
      "[[1.94404188 1.90948218 1.52363032 1.4125924  1.20375978 1.19284632\n",
      "  1.18575692 1.14270632 1.13937137 1.10423012]\n",
      " [0.         0.         0.         0.         0.         0.\n",
      "  0.         0.         0.         0.        ]]\n"
     ]
    }
   ],
   "source": [
    "print(CIs_error)"
   ]
  },
  {
   "cell_type": "code",
   "execution_count": 103,
   "metadata": {},
   "outputs": [
    {
     "name": "stdout",
     "output_type": "stream",
     "text": [
      "['0287', '0284', '4151', '4556A', '0286', '4184', '0290', '4156', '0285', '0613']\n"
     ]
    },
    {
     "data": {
      "image/png": "[encoded data removed]",
      "text/plain": [
       "<Figure size 1200x600 with 2 Axes>"
      ]
     },
     "metadata": {},
     "output_type": "display_data"
    }
   ],
   "source": [
    "sorted_CIs_keys = sorted(CIs.keys(), key=lambda x: CIs[x][0], reverse=True)\n",
    "sorted_CIs_keys = sorted_CIs_keys[:10]\n",
    "print(sorted_CIs_keys)\n",
    "\n",
    "BMs_upper = [BMs[x][1] for x in sorted_CIs_keys]\n",
    "CIs_upper = [CIs[x][1] for x in sorted_CIs_keys]\n",
    "\n",
    "BMs_lower= [BMs[x][0] for x in sorted_CIs_keys]\n",
    "CIs_lower = [CIs[x][0] for x in sorted_CIs_keys]\n",
    "\n",
    "BMs_error = np.array([\n",
    "    [BMs_upper[i] - BMs_lower[i] for i in range(len(BMs_upper))],  # Lower errors\n",
    "    [0 for _ in range(len(BMs_upper))]  # Upper errors (0 because the bar already reaches BMs_upper)\n",
    "])\n",
    "\n",
    "CIs_error = np.array([\n",
    "    [CIs_upper[i] - CIs_lower[i] for i in range(len(CIs_upper))],  # Lower errors\n",
    "    [0 for _ in range(len(CIs_upper))]  # Upper errors\n",
    "])\n",
    "\n",
    "x = np.arange(len(sorted_CIs_keys))\n",
    "width = 0.2\n",
    "\n",
    "fig, ax1 = plt.subplots(figsize=(12, 6))\n",
    "ax2 = ax1.twinx()\n",
    "\n",
    "bars1 = ax1.bar(x - width/2, CIs_error[0], width, bottom=CIs_lower, yerr=CIs_error, capsize=5, color='tomato', alpha=0.7, label=\"CI\")\n",
    "bars2 = ax2.bar(x + width/2, BMs_error[0], width, bottom=BMs_lower, yerr=BMs_error, capsize=5, color='royalblue', alpha=0.7, label=\"BM\")\n",
    "\n",
    "# Formatting\n",
    "ax1.set_xlabel(\"Keys\")\n",
    "ax1.set_ylabel(\"CI\", color='tomato')\n",
    "ax1.tick_params(axis='y', labelcolor='tomato')\n",
    "\n",
    "ax2.set_ylabel(\"BM\", color='royalblue')\n",
    "ax2.tick_params(axis='y', labelcolor='royalblue')\n",
    "\n",
    "ax1.set_xticks(x)\n",
    "ax1.set_xticklabels(sorted_CIs_keys, rotation=45)\n",
    "plt.title(\"Keys sorted by lower bound of CI\")\n",
    "\n",
    "ax1.grid(axis='y', linestyle='--', alpha=0.6)\n",
    "\n",
    "# Show plot\n",
    "plt.show()"
   ]
  },
  {
   "cell_type": "code",
   "execution_count": null,
   "metadata": {},
   "outputs": [],
   "source": []
  }
 ],
 "metadata": {
  "kernelspec": {
   "display_name": "bns",
   "language": "python",
   "name": "python3"
  },
  "language_info": {
   "codemirror_mode": {
    "name": "ipython",
    "version": 3
   },
   "file_extension": ".py",
   "mimetype": "text/x-python",
   "name": "python",
   "nbconvert_exporter": "python",
   "pygments_lexer": "ipython3",
   "version": "3.10.12"
  }
 },
 "nbformat": 4,
 "nbformat_minor": 2
}
