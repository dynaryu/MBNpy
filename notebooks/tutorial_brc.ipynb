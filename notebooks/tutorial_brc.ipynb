{
 "cells": [
  {
   "cell_type": "markdown",
   "metadata": {},
   "source": [
    "# BRC algorithm tutorial\n",
    "\n",
    "## MBNPy version\n",
    "\n",
    "The code below is using MBNpy module's **v0.1.2.**"
   ]
  },
  {
   "cell_type": "code",
   "execution_count": 32,
   "metadata": {},
   "outputs": [],
   "source": [
    "import networkx as nx\n",
    "import matplotlib.pyplot as plt\n",
    "from mbnpy import cpm, variable, inference, branch\n",
    "from networkx.algorithms.flow import shortest_augmenting_path\n",
    "from mbnpy import brc\n",
    "import numpy as np"
   ]
  },
  {
   "cell_type": "markdown",
   "metadata": {},
   "source": [
    "## User input: \"coherent\" system function\n",
    "\n",
    "### Example: Network with five edges\n",
    "\n",
    "#### Network topology\n",
    "We analyse the network below."
   ]
  },
  {
   "cell_type": "code",
   "execution_count": 33,
   "metadata": {},
   "outputs": [
    {
     "data": {
      "image/png": "[encoded data removed]",
      "text/plain": [
       "<Figure size 400x300 with 1 Axes>"
      ]
     },
     "metadata": {},
     "output_type": "display_data"
    }
   ],
   "source": [
    "# Network\n",
    "nodes = {'n1': (0, 0),\n",
    "         'n2': (1, 1),\n",
    "         'n3': (1, -1),\n",
    "         'n4': (2, 0)}\n",
    "\n",
    "edges = {'e1': ['n1', 'n2'],\n",
    "\t     'e2': ['n1', 'n3'],\n",
    "\t     'e3': ['n2', 'n3'],\n",
    "\t     'e4': ['n2', 'n4'],\n",
    "\t     'e5': ['n3', 'n4']}\n",
    "\n",
    "%matplotlib inline\n",
    "plt.figure(figsize=(4,3))\n",
    "# Draw network\n",
    "G = nx.Graph()\n",
    "for node in nodes:\n",
    "    G.add_node(node, pos=nodes[node])\n",
    "for e, pair in edges.items():\n",
    "    G.add_edge(*pair, label=e)\n",
    "\n",
    "pos = nx.get_node_attributes(G, 'pos')\n",
    "edge_labels=nx.get_edge_attributes(G, 'label')\n",
    "nx.draw(G, pos, with_labels=True)\n",
    "nx.draw_networkx_edge_labels(G, pos, edge_labels=edge_labels)\n",
    "plt.show()"
   ]
  },
  {
   "cell_type": "markdown",
   "metadata": {},
   "source": [
    "#### Component events\n",
    "\n",
    "The state of the five edges are represented by component events.<br>\n",
    "The edges take binary-state, 0 for non-functional and 1 for functional.<br>\n",
    "\n",
    "To use the BRC algorithm, component events need to be defined as a *variable.Variable* object."
   ]
  },
  {
   "cell_type": "code",
   "execution_count": 34,
   "metadata": {},
   "outputs": [
    {
     "name": "stdout",
     "output_type": "stream",
     "text": [
      "'Variable(name=e1, values=[0, 1], B=[{0}, {1}, {0, 1}])'\n"
     ]
    }
   ],
   "source": [
    "varis = {}\n",
    "for k, v in edges.items():\n",
    "    varis[k] = variable.Variable( name=k, values = [0, 1]) # values: edge flow capacity\n",
    "\n",
    "print(varis['e1'])"
   ]
  },
  {
   "cell_type": "markdown",
   "metadata": {},
   "source": [
    "The probabilities of component events are defined as below:"
   ]
  },
  {
   "cell_type": "code",
   "execution_count": 35,
   "metadata": {},
   "outputs": [],
   "source": [
    "probs = {'e1': {0: 0.01, 1: 0.99}, 'e2': {0: 0.01, 1: 0.99}, 'e3': {0: 0.05, 1: 0.95},\n",
    "         'e4': {0: 0.05, 1: 0.95}, 'e5': {0: 0.10, 1: 0.90}}\n"
   ]
  },
  {
   "cell_type": "markdown",
   "metadata": {},
   "source": [
    "#### System event\n",
    "\n",
    "System state is evaluated by network connectivity between a designed origin-destination (OD) pair. <br>\n",
    "In other words, a system state is survival if the OD pair is connected; and failure otherwise.\n",
    "\n",
    "<div style=\"margin-top:0;\">\n",
    "This leads to the system function below. <br>\n",
    "<b>NB1</b> <b>The first input</b> of a system function must be <b>a dictionary of components state.</b><br> \n",
    "<b>NB2</b> <b>The outputs</b> must be three: \n",
    "<ul style=\"margin-top:0;\">\n",
    "<li> <em>system value:</em> any format (does not affect the BRC algorithm; just for information's sake); </li>\n",
    "<li> <em>system state:</em> a string, either 's' or 'f'; and </li>\n",
    "<li> <em>components state that guarantees an obtained system state:</em> a dictionary of affecting components OR (if such information unavailable) None.</li>\n",
    "</ul>\n",
    "</div>"
   ]
  },
  {
   "cell_type": "code",
   "execution_count": 36,
   "metadata": {},
   "outputs": [],
   "source": [
    "def net_conn(comps_st, od_pair, edges, varis): # maximum flow analysis\n",
    "\n",
    "    G = nx.Graph()\n",
    "    for k,x in comps_st.items():\n",
    "        G.add_edge(edges[k][0], edges[k][1]) # we add each edge\n",
    "        G[edges[k][0]][edges[k][1]]['capacity'] = varis[k].values[x] # define capacity as 0 if state = 0 or 1 if state = 1\n",
    "\n",
    "    # perform maximum flow analysis between the OD pair\n",
    "    G.add_edge(od_pair[1], 'new_d', capacity=1) # add a new edge with capacity 1 to ensure we find only ONE path. \n",
    "    f_val, f_dict = nx.maximum_flow(G, od_pair[0], 'new_d', capacity='capacity', flow_func=shortest_augmenting_path)\n",
    "\n",
    "    if f_val > 0: # if the flow between the OD pair is greater than 0, the two nodes are connected\n",
    "        sys_st = 's'\n",
    "\n",
    "        # We can infer an associated minimum survival rule in case of network connectivity.\n",
    "        min_comps_st = {} \n",
    "        for k, x in comps_st.items():\n",
    "            k_flow = max([f_dict[edges[k][0]][edges[k][1]], f_dict[edges[k][1]][edges[k][0]]])\n",
    "            if k_flow > 0: # the edges with flows > 0 consitute a minimum survival rule.\n",
    "                min_comps_st[k] = 1\n",
    "\n",
    "    else:\n",
    "        sys_st = 'f'\n",
    "\n",
    "        # In case of system failure, obtaining a minimum failure rule is not straightforward.\n",
    "        min_comps_st = None\n",
    "\n",
    "    return f_val, sys_st, min_comps_st\n"
   ]
  },
  {
   "cell_type": "markdown",
   "metadata": {},
   "source": [
    "In this example, we consider the OD pair 'n1' and 'n4'."
   ]
  },
  {
   "cell_type": "code",
   "execution_count": 37,
   "metadata": {},
   "outputs": [],
   "source": [
    "od_pair=('n1','n4')"
   ]
  },
  {
   "cell_type": "markdown",
   "metadata": {},
   "source": [
    "To run the BRC algorithm, a system function needs to have only one input **components state.**\n",
    "\n",
    "This can be done using a lambda function."
   ]
  },
  {
   "cell_type": "code",
   "execution_count": 38,
   "metadata": {},
   "outputs": [],
   "source": [
    "sys_fun = lambda comps_st : net_conn(comps_st, od_pair, edges, varis)"
   ]
  },
  {
   "cell_type": "markdown",
   "metadata": {},
   "source": [
    "Below are a few examples using the system function."
   ]
  },
  {
   "cell_type": "code",
   "execution_count": 39,
   "metadata": {},
   "outputs": [
    {
     "name": "stdout",
     "output_type": "stream",
     "text": [
      "1 s {'e1': 1, 'e4': 1}\n"
     ]
    }
   ],
   "source": [
    "comps_st = {'e1': 1, 'e2': 1, 'e3': 1, 'e4': 1, 'e5': 1}\n",
    "f_val, sys_st, min_comps_st = sys_fun(comps_st)\n",
    "print(f_val, sys_st, min_comps_st)"
   ]
  },
  {
   "cell_type": "markdown",
   "metadata": {},
   "source": [
    "In the result above, the components state leads to system survival.\n",
    "\n",
    "We also have the survival rule that if e1 and e4 have a state no less than 1, the system survives regardless of the states of other components."
   ]
  },
  {
   "cell_type": "code",
   "execution_count": 40,
   "metadata": {},
   "outputs": [
    {
     "name": "stdout",
     "output_type": "stream",
     "text": [
      "1 s {'e2': 1, 'e5': 1}\n"
     ]
    }
   ],
   "source": [
    "comps_st = {'e1': 0, 'e2': 1, 'e3': 1, 'e4': 1, 'e5': 1}\n",
    "f_val, sys_st, min_comps_st = sys_fun(comps_st)\n",
    "print(f_val, sys_st, min_comps_st)"
   ]
  },
  {
   "cell_type": "markdown",
   "metadata": {},
   "source": [
    "This time, we obtain a different survival rule because e1 has state 0 and therefore the previous rule no longer applies."
   ]
  },
  {
   "cell_type": "code",
   "execution_count": 41,
   "metadata": {},
   "outputs": [
    {
     "name": "stdout",
     "output_type": "stream",
     "text": [
      "0 f None\n"
     ]
    }
   ],
   "source": [
    "comps_st = {'e1': 0, 'e2': 0, 'e3': 1, 'e4': 1, 'e5': 1}\n",
    "f_val, sys_st, min_comps_st = sys_fun(comps_st)\n",
    "print(f_val, sys_st, min_comps_st)"
   ]
  },
  {
   "cell_type": "markdown",
   "metadata": {},
   "source": [
    "This case leads to system failure with e1 and e2 being dysfunctional. \n",
    "\n",
    "The minimum failure rule is returned None."
   ]
  },
  {
   "cell_type": "markdown",
   "metadata": {},
   "source": [
    "## Application of the BRC algorithm\n",
    "\n",
    "Now we run the BRC algorithm.\n",
    "\n",
    "Below, we set pf_bnd_wr = 0.0, indicating that the algorithm stops when the bound width on system failure probability is 0. <br>\n",
    "In other words, the analysis aims for a complete (not approximate) analysis.\n",
    "\n",
    "We set the other stopping criteria as max_sf=np.inf and max_nb=np.inf. <br>\n",
    "The variables indicate the maximum number of system function runs and that of created branches <br>\n",
    "Aiming for a complete analysis, we set both values to infinity. "
   ]
  },
  {
   "cell_type": "code",
   "execution_count": 42,
   "metadata": {},
   "outputs": [
    {
     "name": "stdout",
     "output_type": "stream",
     "text": [
      "\n",
      "*Final decomposition is completed with 11 branches (originally 13 branches).\n",
      "\n",
      "***Analysis completed with f_sys runs 8: out_flag = complete***\n",
      "The # of found non-dominated rules (f, s): 8 (4, 4)\n",
      "Probability of branchs (f, s, u): (5.1688e-03, 9.95e-01, 0.0000e+00)\n",
      "The # of branches (f, s, u), (min, avg) len of rf: 11 (5, 6, 0), (2, 2.50)\n",
      "Elapsed seconds (average per round): 0.00e+00 (0.00e+00)\n"
     ]
    }
   ],
   "source": [
    "brs, rules, sys_res, monitor = brc.run(probs, sys_fun, max_sf=np.inf, max_nb=np.inf, pf_bnd_wr=0.0)"
   ]
  },
  {
   "cell_type": "markdown",
   "metadata": {},
   "source": [
    "The algorithm stops after running the function 8 times, obtaining system failure probability as $5.17 \\cdot 10^{-3}$.\n",
    "\n",
    "The system function has 4 survival rules and 4 failure rules:"
   ]
  },
  {
   "cell_type": "code",
   "execution_count": 43,
   "metadata": {},
   "outputs": [
    {
     "name": "stdout",
     "output_type": "stream",
     "text": [
      "[{'e1': 1, 'e4': 1}, {'e2': 1, 'e5': 1}, {'e2': 1, 'e3': 1, 'e4': 1}, {'e1': 1, 'e3': 1, 'e5': 1}]\n",
      "[{'e4': 0, 'e5': 0}, {'e1': 0, 'e2': 0}, {'e1': 0, 'e3': 0, 'e5': 0}, {'e2': 0, 'e3': 0, 'e4': 0}]\n"
     ]
    }
   ],
   "source": [
    "print(rules['s'])\n",
    "print(rules['f'])"
   ]
  },
  {
   "cell_type": "markdown",
   "metadata": {},
   "source": [
    "The system event space is decomposed into 5 failure branches and 6 survival branches."
   ]
  },
  {
   "cell_type": "code",
   "execution_count": 44,
   "metadata": {},
   "outputs": [
    {
     "name": "stdout",
     "output_type": "stream",
     "text": [
      "Branch(\n",
      "  down={'e1': 1, 'e2': 0, 'e3': 0, 'e4': 1, 'e5': 0},\n",
      "  up={'e1': 1, 'e2': 1, 'e3': 1, 'e4': 1, 'e5': 1},\n",
      "  down_state='s',\n",
      "  up_state='s',\n",
      "  p=0.9405\n",
      ")\n"
     ]
    }
   ],
   "source": [
    "print(brs[0])"
   ]
  },
  {
   "cell_type": "markdown",
   "metadata": {},
   "source": [
    "One can do further analysis using the branches.\n",
    "\n",
    "To this end, we can use *cpm* and *variable* objects."
   ]
  },
  {
   "cell_type": "code",
   "execution_count": null,
   "metadata": {},
   "outputs": [
    {
     "ename": "AssertionError",
     "evalue": "comp_var must be a dictionary",
     "output_type": "error",
     "traceback": [
      "\u001b[1;31m---------------------------------------------------------------------------\u001b[0m",
      "\u001b[1;31mAssertionError\u001b[0m                            Traceback (most recent call last)",
      "Cell \u001b[1;32mIn[46], line 11\u001b[0m\n\u001b[0;32m      8\u001b[0m     cpms[k] \u001b[38;5;241m=\u001b[39m cpm\u001b[38;5;241m.\u001b[39mCpm( variables \u001b[38;5;241m=\u001b[39m [varis[k]], no_child\u001b[38;5;241m=\u001b[39m\u001b[38;5;241m1\u001b[39m, C \u001b[38;5;241m=\u001b[39m np\u001b[38;5;241m.\u001b[39marray([[\u001b[38;5;241m0\u001b[39m],[\u001b[38;5;241m1\u001b[39m]]), p\u001b[38;5;241m=\u001b[39mnp\u001b[38;5;241m.\u001b[39marray([probs[k][\u001b[38;5;241m0\u001b[39m], probs[k][\u001b[38;5;241m1\u001b[39m]]) )\n\u001b[0;32m     10\u001b[0m \u001b[38;5;66;03m# system event\u001b[39;00m\n\u001b[1;32m---> 11\u001b[0m Csys, varis \u001b[38;5;241m=\u001b[39m \u001b[43mbranch\u001b[49m\u001b[38;5;241;43m.\u001b[39;49m\u001b[43mget_cmat\u001b[49m\u001b[43m(\u001b[49m\u001b[43mbrs\u001b[49m\u001b[43m,\u001b[49m\u001b[43m \u001b[49m\u001b[43m[\u001b[49m\u001b[43mvaris\u001b[49m\u001b[43m[\u001b[49m\u001b[43mk\u001b[49m\u001b[43m]\u001b[49m\u001b[43m \u001b[49m\u001b[38;5;28;43;01mfor\u001b[39;49;00m\u001b[43m \u001b[49m\u001b[43mk\u001b[49m\u001b[43m \u001b[49m\u001b[38;5;129;43;01min\u001b[39;49;00m\u001b[43m \u001b[49m\u001b[43mprobs\u001b[49m\u001b[43m]\u001b[49m\u001b[43m)\u001b[49m\n\u001b[0;32m     12\u001b[0m \u001b[38;5;28mprint\u001b[39m(Csys) \u001b[38;5;66;03m# each branch becomes a row in the system's event matrix\u001b[39;00m\n\u001b[0;32m     13\u001b[0m psys \u001b[38;5;241m=\u001b[39m np\u001b[38;5;241m.\u001b[39marray([\u001b[38;5;241m1.0\u001b[39m]\u001b[38;5;241m*\u001b[39m\u001b[38;5;28mlen\u001b[39m(Csys)) \u001b[38;5;66;03m# the system function is determinisitic, i.e. all instances have a probability of 1.\u001b[39;00m\n",
      "File \u001b[1;32mc:\\Users\\bjieu\\miniconda3\\envs\\mbnpy\\Lib\\site-packages\\mbnpy\\branch.py:399\u001b[0m, in \u001b[0;36mget_cmat\u001b[1;34m(branches, comp_varis)\u001b[0m\n\u001b[0;32m    388\u001b[0m \u001b[38;5;250m\u001b[39m\u001b[38;5;124;03m\"\"\"\u001b[39;00m\n\u001b[0;32m    389\u001b[0m \u001b[38;5;124;03mParameters\u001b[39;00m\n\u001b[0;32m    390\u001b[0m \u001b[38;5;124;03m----------\u001b[39;00m\n\u001b[1;32m   (...)\u001b[0m\n\u001b[0;32m    396\u001b[0m \u001b[38;5;124;03m    The first column is the system state (0: failure, 1: survival, 2: unknown)\u001b[39;00m\n\u001b[0;32m    397\u001b[0m \u001b[38;5;124;03m\"\"\"\u001b[39;00m\n\u001b[0;32m    398\u001b[0m \u001b[38;5;28;01massert\u001b[39;00m \u001b[38;5;28misinstance\u001b[39m(branches, \u001b[38;5;28mlist\u001b[39m), \u001b[38;5;124m'\u001b[39m\u001b[38;5;124mbranches must be a list\u001b[39m\u001b[38;5;124m'\u001b[39m\n\u001b[1;32m--> 399\u001b[0m \u001b[38;5;28;01massert\u001b[39;00m \u001b[38;5;28misinstance\u001b[39m(comp_varis, \u001b[38;5;28mdict\u001b[39m), \u001b[38;5;124m'\u001b[39m\u001b[38;5;124mcomp_var must be a dictionary\u001b[39m\u001b[38;5;124m'\u001b[39m\n\u001b[0;32m    401\u001b[0m no_comp \u001b[38;5;241m=\u001b[39m \u001b[38;5;28mlen\u001b[39m(comp_varis)\n\u001b[0;32m    403\u001b[0m C \u001b[38;5;241m=\u001b[39m np\u001b[38;5;241m.\u001b[39mzeros((\u001b[38;5;241m0\u001b[39m, no_comp \u001b[38;5;241m+\u001b[39m \u001b[38;5;241m1\u001b[39m))\n",
      "\u001b[1;31mAssertionError\u001b[0m: comp_var must be a dictionary"
     ]
    }
   ],
   "source": [
    "varis['sys'] = variable.Variable(name='sys', values=['f', 's']) # state 0 for failure and 1 for survival\n",
    "\n",
    "# probability distributions using CPM\n",
    "cpms = {}\n",
    "\n",
    "# component events\n",
    "for k, v in edges.items():\n",
    "    cpms[k] = cpm.Cpm( variables = [varis[k]], no_child=1, C = np.array([[0],[1]]), p=np.array([probs[k][0], probs[k][1]]) )\n",
    "\n",
    "# system event\n",
    "Csys, varis = branch.get_cmat(brs, {k: varis[k] for k in probs})\n",
    "print(Csys) # each branch becomes a row in the system's event matrix\n",
    "psys = np.array([1.0]*len(Csys)) # the system function is determinisitic, i.e. all instances have a probability of 1.\n",
    "\n",
    "cpms['sys'] = cpm.Cpm( [varis['sys']] + [varis[e] for e in edges], 1, Csys, psys )\n",
    "print(cpms['sys'])"
   ]
  },
  {
   "cell_type": "markdown",
   "metadata": {},
   "source": [
    "For instance, one can compute component importance $P(Xn=0 | S=0) = P(Xn=0, S=0) / P(S=0)$ as below."
   ]
  },
  {
   "cell_type": "code",
   "execution_count": null,
   "metadata": {},
   "outputs": [],
   "source": [
    "def get_cim( comp_name, cpms, varis, pf ):\n",
    "    var_elim_names = list(edges.keys())\n",
    "    var_elim_names.remove(comp_name)\n",
    "\n",
    "    var_elim_order = [varis[e] for e in var_elim_names]\n",
    "\n",
    "\n",
    "    cpm_s_x = inference.variable_elim( cpms, var_elim_order )\n",
    "    row_idx = np.where((cpm_s_x.C == [0, 0]).all(axis=1))\n",
    "    p_s0_x0 = sum(cpm_s_x.p[row_idx])\n",
    "\n",
    "    cim = p_s0_x0[0] / pf\n",
    "\n",
    "    return cim\n"
   ]
  },
  {
   "cell_type": "code",
   "execution_count": null,
   "metadata": {},
   "outputs": [
    {
     "name": "stdout",
     "output_type": "stream",
     "text": [
      "{'e1': 0.036316849613778325, 'e2': 0.03174317182244891, 'e3': 0.05992441881952915, 'e4': 0.9289231991721182, 'e5': 0.9344208522748271}\n"
     ]
    },
    {
     "data": {
      "image/png": "[encoded data removed]",
      "text/plain": [
       "<Figure size 500x300 with 1 Axes>"
      ]
     },
     "metadata": {},
     "output_type": "display_data"
    }
   ],
   "source": [
    "cims = {}\n",
    "for comp_name in edges:\n",
    "    cims[comp_name] = get_cim( comp_name, cpms, varis, pf = 5.4114e-03 )\n",
    "print(cims)\n",
    "\n",
    "fig, ax = plt.subplots(figsize=(5,3))\n",
    "ax.bar( cims.keys(), cims.values() )\n",
    "plt.show()"
   ]
  }
 ],
 "metadata": {
  "kernelspec": {
   "display_name": "mbnpy",
   "language": "python",
   "name": "python3"
  },
  "language_info": {
   "codemirror_mode": {
    "name": "ipython",
    "version": 3
   },
   "file_extension": ".py",
   "mimetype": "text/x-python",
   "name": "python",
   "nbconvert_exporter": "python",
   "pygments_lexer": "ipython3",
   "version": "3.12.9"
  }
 },
 "nbformat": 4,
 "nbformat_minor": 2
}
